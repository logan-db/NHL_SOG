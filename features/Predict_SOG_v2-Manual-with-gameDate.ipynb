{
 "cells": [
  {
   "cell_type": "markdown",
   "metadata": {
    "application/vnd.databricks.v1+cell": {
     "cellMetadata": {
      "byteLimit": 2048000,
      "rowLimit": 10000
     },
     "inputWidgets": {},
     "nuid": "a042b91a-7e7e-4d90-8c46-39355896d496",
     "showTitle": false,
     "title": ""
    }
   },
   "source": [
    "# LightGBM Regressor training\n",
    "- This is an auto-generated notebook.\n",
    "- To reproduce these results, attach this notebook to a cluster with runtime version **14.3.x-cpu-ml-scala2.12**, and rerun it.\n",
    "- Compare trials in the [MLflow experiment](#mlflow/experiments/2824690123542843).\n",
    "- Clone this notebook into your project folder by selecting **File > Clone** in the notebook toolbar."
   ]
  },
  {
   "cell_type": "code",
   "execution_count": 0,
   "metadata": {
    "application/vnd.databricks.v1+cell": {
     "cellMetadata": {
      "byteLimit": 2048000,
      "rowLimit": 10000
     },
     "inputWidgets": {},
     "nuid": "3bb2a6e6-0058-46a7-9b3e-c4643182fdb7",
     "showTitle": false,
     "title": ""
    },
    "execution": {
     "iopub.execute_input": "2024-04-20T03:00:27.279886Z",
     "iopub.status.busy": "2024-04-20T03:00:27.271609Z",
     "iopub.status.idle": "2024-04-20T03:00:27.296083Z",
     "shell.execute_reply": "2024-04-20T03:00:27.294996Z"
    }
   },
   "outputs": [],
   "source": [
    "import mlflow\n",
    "import databricks.automl_runtime\n",
    "\n",
    "target_col = \"player_Total_shotsOnGoal\"\n",
    "time_col = \"gameDate\""
   ]
  },
  {
   "cell_type": "markdown",
   "metadata": {
    "application/vnd.databricks.v1+cell": {
     "cellMetadata": {
      "byteLimit": 2048000,
      "rowLimit": 10000
     },
     "inputWidgets": {},
     "nuid": "f1a2a969-d972-4519-b0d4-419ffd849fd7",
     "showTitle": false,
     "title": ""
    }
   },
   "source": [
    "## Load Data"
   ]
  },
  {
   "cell_type": "code",
   "execution_count": 0,
   "metadata": {
    "application/vnd.databricks.v1+cell": {
     "cellMetadata": {
      "byteLimit": 2048000,
      "rowLimit": 10000
     },
     "inputWidgets": {},
     "nuid": "78cfeab6-a528-4a24-9360-52b2e2eadd42",
     "showTitle": false,
     "title": ""
    }
   },
   "outputs": [],
   "source": [
    "import mlflow\n",
    "import os\n",
    "import uuid\n",
    "import shutil\n",
    "import pandas as pd\n",
    "\n",
    "df_loaded = spark.table(\"lr_nhl_demo.dev.SOG_features_v2\")\n",
    "\n",
    "# Preview data\n",
    "display(df_loaded.head(5))"
   ]
  },
  {
   "cell_type": "code",
   "execution_count": 0,
   "metadata": {
    "application/vnd.databricks.v1+cell": {
     "cellMetadata": {
      "byteLimit": 2048000,
      "rowLimit": 10000
     },
     "collapsed": true,
     "inputWidgets": {},
     "nuid": "5b80f0bb-2aee-46fd-b9b8-cb32ff1a3a34",
     "showTitle": false,
     "title": ""
    },
    "execution": {
     "iopub.execute_input": "2024-04-20T03:00:27.302621Z",
     "iopub.status.busy": "2024-04-20T03:00:27.301417Z",
     "iopub.status.idle": "2024-04-20T03:00:29.523746Z",
     "shell.execute_reply": "2024-04-20T03:00:29.522162Z"
    }
   },
   "outputs": [],
   "source": [
    "# import mlflow\n",
    "# import os\n",
    "# import uuid\n",
    "# import shutil\n",
    "# import pandas as pd\n",
    "\n",
    "# # Create temp directory to download input data from MLflow\n",
    "# input_temp_dir = os.path.join(os.environ[\"SPARK_LOCAL_DIRS\"], \"tmp\", str(uuid.uuid4())[:8])\n",
    "# os.makedirs(input_temp_dir)\n",
    "\n",
    "\n",
    "# # Download the artifact and read it into a pandas DataFrame\n",
    "# input_data_path = mlflow.artifacts.download_artifacts(run_id=\"1913013715404328826999b3d06dc834\", artifact_path=\"data\", dst_path=input_temp_dir)\n",
    "\n",
    "# df_loaded = pd.read_parquet(os.path.join(input_data_path, \"training_data\"))\n",
    "# # Delete the temp data\n",
    "# shutil.rmtree(input_temp_dir)\n",
    "\n",
    "# # Preview data\n",
    "# display(df_loaded.head(5))"
   ]
  },
  {
   "cell_type": "markdown",
   "metadata": {
    "application/vnd.databricks.v1+cell": {
     "cellMetadata": {
      "byteLimit": 2048000,
      "rowLimit": 10000
     },
     "inputWidgets": {},
     "nuid": "2abc85ed-0fc3-4176-b710-10c7667d0db2",
     "showTitle": false,
     "title": ""
    }
   },
   "source": [
    "### Select supported columns\n",
    "Select only the columns that are supported. This allows us to train a model that can predict on a dataset that has extra columns that are not used in training.\n",
    "`[\"isPlayoffGame\"]` are dropped in the pipelines. See the Alerts tab of the AutoML Experiment page for details on why these columns are dropped."
   ]
  },
  {
   "cell_type": "code",
   "execution_count": 0,
   "metadata": {
    "application/vnd.databricks.v1+cell": {
     "cellMetadata": {
      "byteLimit": 2048000,
      "rowLimit": 10000
     },
     "inputWidgets": {},
     "nuid": "4c7116d8-e777-4786-b716-23d02e5252aa",
     "showTitle": false,
     "title": ""
    }
   },
   "outputs": [],
   "source": [
    "from pyspark.sql.types import StringType\n",
    "\n",
    "cols_to_remove = [\"DAY\", \"HOME\", \"AWAY\", \"gameId\", \"playerId\", \"shooterName\", \"home_or_away\"]\n",
    "\n",
    "# Identify numerical and categorical columns\n",
    "numerical_cols = [\n",
    "    col\n",
    "    for col, dtype in df_loaded.dtypes\n",
    "    if dtype in [\"int\", \"bigint\", \"float\", \"double\"] and col != target_col\n",
    "]\n",
    "categorical_cols = [col for col, dtype in df_loaded.dtypes if dtype == \"string\"]\n",
    "\n",
    "numerical_cols = list(set(numerical_cols) - set(cols_to_remove))\n",
    "categorical_cols = list(set(categorical_cols) - set(cols_to_remove))\n",
    "\n",
    "# Printing the list of categorical columns\n",
    "print(categorical_cols)\n",
    "print(numerical_cols)"
   ]
  },
  {
   "cell_type": "code",
   "execution_count": 0,
   "metadata": {
    "application/vnd.databricks.v1+cell": {
     "cellMetadata": {
      "byteLimit": 2048000,
      "rowLimit": 10000
     },
     "inputWidgets": {},
     "nuid": "37f5fd6d-901e-4a5d-92ae-2cd68fb46ab6",
     "showTitle": false,
     "title": ""
    }
   },
   "outputs": [],
   "source": [
    "from databricks.automl_runtime.sklearn.column_selector import ColumnSelector\n",
    "\n",
    "supported_cols = categorical_cols + [col for col in numerical_cols if col != target_col]\n",
    "supported_cols = list(set(supported_cols + [time_col]) - set(cols_to_remove))\n",
    "# supported_cols = list(set(supported_cols) - set(cols_to_remove))\n",
    "\n",
    "col_selector = ColumnSelector(supported_cols)"
   ]
  },
  {
   "cell_type": "code",
   "execution_count": 0,
   "metadata": {
    "application/vnd.databricks.v1+cell": {
     "cellMetadata": {
      "byteLimit": 2048000,
      "rowLimit": 10000
     },
     "inputWidgets": {},
     "nuid": "8b69ec0a-5ce9-4a5e-8f0b-c9451f4d5d1a",
     "showTitle": false,
     "title": ""
    }
   },
   "outputs": [],
   "source": [
    "target_col in numerical_cols\n",
    "# time_col in categorical_cols"
   ]
  },
  {
   "cell_type": "code",
   "execution_count": 0,
   "metadata": {
    "application/vnd.databricks.v1+cell": {
     "cellMetadata": {
      "byteLimit": 2048000,
      "rowLimit": 10000
     },
     "collapsed": true,
     "inputWidgets": {},
     "nuid": "07cc0253-6c7d-4b4b-a467-cbce98955645",
     "showTitle": false,
     "title": ""
    },
    "execution": {
     "iopub.execute_input": "2024-04-20T03:00:29.530438Z",
     "iopub.status.busy": "2024-04-20T03:00:29.529401Z",
     "iopub.status.idle": "2024-04-20T03:00:30.435667Z",
     "shell.execute_reply": "2024-04-20T03:00:30.415892Z"
    }
   },
   "outputs": [],
   "source": [
    "# from databricks.automl_runtime.sklearn.column_selector import ColumnSelector\n",
    "# supported_cols = [\"matchup_average_game_hitsFor_last_3_games\", \"average_game_blockedShotAttemptsAgainst_last_3_games\", \"previous_player_PenaltyKillShotsInGame\", \"gameId\", \"previous_game_takeawaysFor\", \"matchup_previous_player_ShotsOnRushesInGame\", \"matchup_average_game_giveawaysFor_last_7_games\", \"previous_game_blockedShotAttemptsAgainst\", \"matchup_average_player_PowerPlayShotAttemptsInGame_last_7_games\", \"average_game_goalPercentageAgainst_last_3_games\", \"previous_player_ShotsOnRushesInGame\", \"matchup_previous_game_takeawaysAgainst\", \"matchup_average_game_shotsOnGoalFor_last_3_games\", \"teamMatchupPlayedRolling\", \"average_game_giveawaysFor_last_7_games\", \"matchup_previous_game_shotsOnGoalAgainst\", \"average_game_fenwickPercentage_last_3_games\", \"previous_game_goalPercentageFor\", \"previous_player_EvenStrengthShotsInGame\", \"previous_game_hitsAgainst\", \"matchup_average_player_PowerPlayShotsInGame_last_7_games\", \"matchup_average_player_ShotsOnRushesInGame_last_3_games\", \"previous_game_highDangerShotsFor\", \"matchup_average_game_reboundsFor_last_3_games\", \"matchup_average_player_EvenStrengthShotAttemptsInGame_last_3_games\", \"matchup_previous_game_penaltiesAgainst\", \"matchup_average_game_reboundGoalsAgainst_last_7_games\", \"average_game_mediumDangerShotsFor_last_7_games\", \"previous_game_shotAttemptsFor\", \"average_game_takeawaysFor_last_3_games\", \"average_game_playContinuedOutsideZoneAgainst_last_7_games\", \"matchup_average_game_faceOffsWonFor_last_3_games\", \"average_game_lowDangerShotsFor_last_7_games\", \"matchup_average_game_takeawaysFor_last_3_games\", \"average_game_goalsAgainst_last_3_games\", \"previous_game_shotAttemptsAgainst\", \"average_game_savedShotsOnGoalAgainst_last_7_games\", \"average_game_reboundsAgainst_last_3_games\", \"average_player_totalTimeOnIceSinceFaceoffInGame_last_3_games\", \"average_game_reboundsAgainst_last_7_games\", \"average_game_savedUnblockedShotAttemptsAgainst_last_7_games\", \"average_player_ShotsOnReboundsInGame_last_7_games\", \"matchup_average_player_PenaltyKillShotsInGame_last_7_games\", \"matchup_average_player_GoalsInGame_last_7_games\", \"previous_game_playContinuedOutsideZoneAgainst\", \"previous_game_blockedShotAttemptsFor\", \"average_game_penaltiesAgainst_last_7_games\", \"average_game_playContinuedInZoneAgainst_last_3_games\", \"matchup_average_player_EvenStrengthShotsInGame_last_7_games\", \"matchup_average_game_shotAttemptsAgainst_last_3_games\", \"matchup_average_game_blockedShotAttemptsAgainst_last_7_games\", \"matchup_average_game_corsiPercentage_last_3_games\", \"average_player_ShotAttemptsInGame_last_3_games\", \"matchup_average_game_shotAttemptsAgainst_last_7_games\", \"previous_player_avgShotDistanceInGame\", \"average_game_playContinuedOutsideZoneFor_last_3_games\", \"matchup_average_game_shotsOnGoalAgainst_last_7_games\", \"playerTeam\", \"matchup_previous_player_PenaltyKillShotsInGame\", \"average_player_PenaltyKillShotAttemptsInGame_last_7_games\", \"matchup_previous_game_playContinuedOutsideZoneFor\", \"shooterName\", \"matchup_average_game_playContinuedInZoneFor_last_3_games\", \"matchup_previous_game_shotsOnGoalFor\", \"matchup_previous_game_playContinuedOutsideZoneAgainst\", \"average_player_totalTimeOnIceInGame_last_3_games\", \"matchup_average_game_reboundsFor_last_7_games\", \"matchup_average_player_PowerPlayShotAttemptsInGame_last_3_games\", \"matchup_previous_game_playContinuedInZoneAgainst\", \"average_game_lowDangerShotsAgainst_last_3_games\", \"matchup_average_game_lowDangerShotsFor_last_7_games\", \"previous_player_PenaltyKillShotAttemptsInGame\", \"previous_player_ShotsOnGoalInGame\", \"previous_player_totalTimeOnIceSinceFaceoffInGame\", \"matchup_average_player_ShotsOnEmptyNetInGame_last_3_games\", \"matchup_average_game_mediumDangerShotsFor_last_7_games\", \"matchup_average_player_totalTimeOnIceInGame_last_7_games\", \"matchup_average_game_missedShotsAgainst_last_3_games\", \"matchup_average_game_shotAttemptsFor_last_3_games\", \"matchup_previous_game_playContinuedInZoneFor\", \"average_player_EvenStrengthShotsInGame_last_7_games\", \"matchup_previous_player_PowerPlayShotAttemptsInGame\", \"matchup_previous_game_giveawaysAgainst\", \"average_game_takeawaysAgainst_last_7_games\", \"matchup_average_game_lowDangerShotsAgainst_last_3_games\", \"matchup_previous_player_PenaltyKillShotAttemptsInGame\", \"average_game_savedShotsOnGoalFor_last_3_games\", \"average_player_EvenStrengthShotsInGame_last_3_games\", \"matchup_previous_game_reboundsFor\", \"previous_game_reboundsFor\", \"previous_player_PowerPlayShotAttemptsInGame\", \"average_game_shotsOnGoalFor_last_7_games\", \"average_player_ShotsOnRushesInGame_last_3_games\", \"average_game_highDangerShotsFor_last_7_games\", \"matchup_average_game_goalsAgainst_last_7_games\", \"matchup_previous_player_GoalsInGame\", \"matchup_average_game_reboundGoalsAgainst_last_3_games\", \"average_game_goalPercentageFor_last_7_games\", \"previous_game_corsiPercentage\", \"matchup_average_player_totalTimeOnIceSinceFaceoffInGame_last_3_games\", \"average_player_ShotsOnGoalInGame_last_7_games\", \"playerGamesPlayedRolling\", \"average_game_faceOffsWonAgainst_last_7_games\", \"average_player_avgSpeedFromLastEvent_last_3_games\", \"average_player_GoalsInGame_last_7_games\", \"matchup_previous_game_lowDangerShotsFor\", \"average_game_giveawaysAgainst_last_3_games\", \"previous_game_lowDangerShotsFor\", \"matchup_average_game_highDangerShotsAgainst_last_3_games\", \"matchup_previous_game_corsiPercentage\", \"average_game_penaltiesFor_last_7_games\", \"average_game_hitsFor_last_3_games\", \"average_game_corsiPercentage_last_7_games\", \"matchup_previous_game_faceOffsWonFor\", \"average_game_reboundGoalsAgainst_last_3_games\", \"previous_game_giveawaysFor\", \"previous_player_ShotAttemptsInGame\", \"matchup_average_game_hitsAgainst_last_3_games\", \"matchup_average_game_playContinuedInZoneAgainst_last_7_games\", \"matchup_previous_game_reboundsAgainst\", \"average_game_highDangerShotsFor_last_3_games\", \"matchup_previous_game_hitsFor\", \"average_game_reboundsFor_last_3_games\", \"average_game_shotsOnGoalAgainst_last_3_games\", \"matchup_previous_game_savedUnblockedShotAttemptsAgainst\", \"average_game_goalPercentageAgainst_last_7_games\", \"average_game_takeawaysAgainst_last_3_games\", \"average_game_missedShotsFor_last_3_games\", \"matchup_previous_game_goalsAgainst\", \"playerMatchupPlayedRolling\", \"matchup_previous_game_blockedShotAttemptsFor\", \"matchup_average_game_penaltiesAgainst_last_3_games\", \"average_player_ShotAttemptsInGame_last_7_games\", \"average_game_lowDangerShotsFor_last_3_games\", \"average_player_PenaltyKillShotAttemptsInGame_last_3_games\", \"average_player_PenaltyKillShotsInGame_last_7_games\", \"average_game_blockedShotAttemptsFor_last_7_games\", \"average_game_shotAttemptsFor_last_3_games\", \"matchup_average_game_playContinuedOutsideZoneFor_last_3_games\", \"matchup_average_game_playContinuedOutsideZoneFor_last_7_games\", \"matchup_average_game_reboundGoalsFor_last_7_games\", \"previous_game_goalsAgainst\", \"matchup_average_game_mediumDangerShotsAgainst_last_7_games\", \"matchup_average_game_highDangerShotsFor_last_3_games\", \"matchup_average_game_reboundsAgainst_last_3_games\", \"previous_game_missedShotsAgainst\", \"matchup_average_game_savedShotsOnGoalFor_last_3_games\", \"matchup_previous_game_giveawaysFor\", \"average_player_ShotsOnEmptyNetInGame_last_3_games\", \"matchup_previous_player_ShotsOnEmptyNetInGame\", \"matchup_average_game_penaltiesFor_last_7_games\", \"matchup_previous_game_blockedShotAttemptsAgainst\", \"previous_game_savedUnblockedShotAttemptsFor\", \"previous_game_hitsFor\", \"matchup_average_game_fenwickPercentage_last_3_games\", \"average_game_reboundGoalsFor_last_7_games\", \"average_game_blockedShotAttemptsAgainst_last_7_games\", \"average_game_mediumDangerShotsAgainst_last_7_games\", \"matchup_previous_game_takeawaysFor\", \"average_game_shotAttemptsAgainst_last_7_games\", \"matchup_average_player_ShotsOnGoalInGame_last_3_games\", \"teamGamesPlayedRolling\", \"average_game_missedShotsFor_last_7_games\", \"average_game_lowDangerShotsAgainst_last_7_games\", \"rolling_playerTotalTimeOnIceInGame\", \"matchup_average_player_PenaltyKillShotAttemptsInGame_last_7_games\", \"matchup_average_game_takeawaysFor_last_7_games\", \"average_game_faceOffsWonAgainst_last_3_games\", \"matchup_previous_game_reboundGoalsFor\", \"matchup_previous_game_missedShotsAgainst\", \"matchup_previous_game_faceOffsWonAgainst\", \"average_game_goalsFor_last_3_games\", \"previous_player_PowerPlayShotsInGame\", \"previous_game_penaltiesFor\", \"dummyDay\", \"matchup_previous_player_totalTimeOnIceSinceFaceoffInGame\", \"matchup_average_game_corsiPercentage_last_7_games\", \"matchup_average_game_savedUnblockedShotAttemptsFor_last_7_games\", \"playerId\", \"matchup_previous_game_fenwickPercentage\", \"average_player_ShotsOnGoalInGame_last_3_games\", \"average_game_hitsAgainst_last_7_games\", \"previous_player_totalTimeOnIceInGame\", \"average_game_corsiPercentage_last_3_games\", \"average_game_goalsAgainst_last_7_games\", \"average_player_avgShotDistanceInGame_last_3_games\", \"average_game_penaltiesAgainst_last_3_games\", \"matchup_previous_game_hitsAgainst\", \"average_player_EvenStrengthShotAttemptsInGame_last_7_games\", \"average_player_PowerPlayShotsInGame_last_3_games\", \"average_game_missedShotsAgainst_last_3_games\", \"matchup_previous_game_reboundGoalsAgainst\", \"average_player_ShotsOnRushesInGame_last_7_games\", \"previous_opposingTeam\", \"previous_game_reboundGoalsAgainst\", \"previous_game_playContinuedInZoneAgainst\", \"average_game_faceOffsWonFor_last_3_games\", \"matchup_average_game_blockedShotAttemptsAgainst_last_3_games\", \"matchup_average_player_ShotAttemptsInGame_last_7_games\", \"matchup_average_game_goalsAgainst_last_3_games\", \"previous_game_playContinuedOutsideZoneFor\", \"previous_game_faceOffsWonAgainst\", \"average_player_avgSpeedFromLastEvent_last_7_games\", \"matchup_average_player_avgSpeedFromLastEvent_last_3_games\", \"previous_game_goalPercentageAgainst\", \"previous_game_shotsOnGoalFor\", \"matchup_average_game_savedShotsOnGoalFor_last_7_games\", \"average_player_PowerPlayShotAttemptsInGame_last_3_games\", \"average_game_mediumDangerShotsFor_last_3_games\", \"matchup_previous_game_savedShotsOnGoalAgainst\", \"previous_game_reboundGoalsFor\", \"matchup_average_game_hitsAgainst_last_7_games\", \"matchup_previous_game_missedShotsFor\", \"previous_game_reboundsAgainst\", \"previous_game_mediumDangerShotsAgainst\", \"previous_game_missedShotsFor\", \"previous_game_shotsOnGoalAgainst\", \"matchup_previous_player_PowerPlayShotsInGame\", \"average_player_ShotsOnEmptyNetInGame_last_7_games\", \"average_player_ShotsOnReboundsInGame_last_3_games\", \"matchup_previous_player_ShotsOnGoalInGame\", \"previous_player_GoalsInGame\", \"matchup_average_game_takeawaysAgainst_last_3_games\", \"matchup_average_game_missedShotsFor_last_3_games\", \"matchup_average_game_savedUnblockedShotAttemptsFor_last_3_games\", \"matchup_previous_game_shotAttemptsFor\", \"previous_game_mediumDangerShotsFor\", \"previous_player_ShotsOnReboundsInGame\", \"previous_game_playContinuedInZoneFor\", \"previous_player_EvenStrengthShotAttemptsInGame\", \"matchup_average_game_missedShotsAgainst_last_7_games\", \"average_player_PowerPlayShotsInGame_last_7_games\", \"matchup_average_game_shotsOnGoalFor_last_7_games\", \"average_game_giveawaysFor_last_3_games\", \"matchup_average_game_penaltiesFor_last_3_games\", \"average_game_playContinuedInZoneFor_last_3_games\", \"average_game_shotAttemptsAgainst_last_3_games\", \"average_game_savedShotsOnGoalFor_last_7_games\", \"matchup_average_game_playContinuedInZoneFor_last_7_games\", \"previous_player_avgSpeedFromLastEvent\", \"matchup_average_game_lowDangerShotsFor_last_3_games\", \"isHome\", \"average_player_totalTimeOnIceInGame_last_7_games\", \"matchup_average_game_takeawaysAgainst_last_7_games\", \"matchup_previous_game_penaltiesFor\", \"average_player_GoalsInGame_last_3_games\", \"average_player_avgShotDistanceInGame_last_7_games\", \"matchup_average_game_giveawaysAgainst_last_3_games\", \"matchup_average_player_ShotsOnRushesInGame_last_7_games\", \"average_game_hitsFor_last_7_games\", \"matchup_average_player_avgShotDistanceInGame_last_7_games\", \"average_game_reboundGoalsFor_last_3_games\", \"average_game_savedUnblockedShotAttemptsAgainst_last_3_games\", \"matchup_average_game_playContinuedOutsideZoneAgainst_last_7_games\", \"matchup_previous_game_goalPercentageAgainst\", \"matchup_previous_player_avgSpeedFromLastEvent\", \"matchup_average_player_ShotsOnReboundsInGame_last_7_games\", \"matchup_previous_game_goalPercentageFor\", \"matchup_average_game_blockedShotAttemptsFor_last_7_games\", \"matchup_average_game_shotsOnGoalAgainst_last_3_games\", \"matchup_average_game_playContinuedOutsideZoneAgainst_last_3_games\", \"previous_game_fenwickPercentage\", \"matchup_previous_game_lowDangerShotsAgainst\", \"average_game_shotsOnGoalFor_last_3_games\", \"previous_player_ShotsOnEmptyNetInGame\", \"average_game_highDangerShotsAgainst_last_3_games\", \"matchup_average_game_goalPercentageFor_last_7_games\", \"previous_game_faceOffsWonFor\", \"matchup_average_player_PowerPlayShotsInGame_last_3_games\", \"matchup_average_player_PenaltyKillShotsInGame_last_3_games\", \"matchup_average_game_reboundGoalsFor_last_3_games\", \"average_game_reboundGoalsAgainst_last_7_games\", \"matchup_average_game_lowDangerShotsAgainst_last_7_games\", \"matchup_average_game_highDangerShotsFor_last_7_games\", \"average_game_playContinuedOutsideZoneAgainst_last_3_games\", \"previous_game_savedShotsOnGoalFor\", \"average_game_savedShotsOnGoalAgainst_last_3_games\", \"previous_game_savedUnblockedShotAttemptsAgainst\", \"matchup_average_game_goalPercentageAgainst_last_7_games\", \"matchup_average_player_avgSpeedFromLastEvent_last_7_games\", \"matchup_previous_player_EvenStrengthShotAttemptsInGame\", \"matchup_average_game_savedShotsOnGoalAgainst_last_7_games\", \"matchup_average_player_EvenStrengthShotsInGame_last_3_games\", \"average_game_playContinuedInZoneAgainst_last_7_games\", \"matchup_average_game_faceOffsWonAgainst_last_7_games\", \"average_game_faceOffsWonFor_last_7_games\", \"gameDate\", \"matchup_average_game_faceOffsWonAgainst_last_3_games\", \"matchup_average_player_totalTimeOnIceInGame_last_3_games\", \"previous_game_takeawaysAgainst\", \"matchup_average_game_hitsFor_last_7_games\", \"matchup_average_game_giveawaysFor_last_3_games\", \"matchup_previous_player_avgShotDistanceInGame\", \"matchup_previous_player_ShotsOnReboundsInGame\", \"matchup_average_game_highDangerShotsAgainst_last_7_games\", \"matchup_average_game_goalPercentageAgainst_last_3_games\", \"average_player_totalTimeOnIceSinceFaceoffInGame_last_7_games\", \"previous_game_savedShotsOnGoalAgainst\", \"matchup_average_game_missedShotsFor_last_7_games\", \"matchup_previous_game_shotAttemptsAgainst\", \"average_game_takeawaysFor_last_7_games\", \"matchup_previous_game_savedUnblockedShotAttemptsFor\", \"average_game_goalPercentageFor_last_3_games\", \"average_game_giveawaysAgainst_last_7_games\", \"matchup_average_game_giveawaysAgainst_last_7_games\", \"matchup_previous_game_highDangerShotsAgainst\", \"average_game_goalsFor_last_7_games\", \"matchup_average_game_reboundsAgainst_last_7_games\", \"matchup_average_game_savedUnblockedShotAttemptsAgainst_last_3_games\", \"matchup_previous_player_totalTimeOnIceInGame\", \"average_game_fenwickPercentage_last_7_games\", \"average_game_reboundsFor_last_7_games\", \"matchup_average_player_ShotsOnGoalInGame_last_7_games\", \"matchup_average_player_totalTimeOnIceSinceFaceoffInGame_last_7_games\", \"matchup_average_game_playContinuedInZoneAgainst_last_3_games\", \"matchup_previous_player_EvenStrengthShotsInGame\", \"matchup_average_game_mediumDangerShotsFor_last_3_games\", \"matchup_average_game_fenwickPercentage_last_7_games\", \"matchup_average_game_mediumDangerShotsAgainst_last_3_games\", \"average_game_playContinuedInZoneFor_last_7_games\", \"matchup_previous_game_mediumDangerShotsFor\", \"previous_game_goalsFor\", \"matchup_average_game_savedShotsOnGoalAgainst_last_3_games\", \"average_game_savedUnblockedShotAttemptsFor_last_7_games\", \"matchup_average_game_penaltiesAgainst_last_7_games\", \"average_game_savedUnblockedShotAttemptsFor_last_3_games\", \"matchup_average_player_ShotsOnEmptyNetInGame_last_7_games\", \"average_game_missedShotsAgainst_last_7_games\", \"average_game_highDangerShotsAgainst_last_7_games\", \"matchup_average_player_EvenStrengthShotAttemptsInGame_last_7_games\", \"matchup_previous_game_mediumDangerShotsAgainst\", \"matchup_previous_game_goalsFor\", \"previous_game_highDangerShotsAgainst\", \"matchup_previous_game_highDangerShotsFor\", \"average_player_PowerPlayShotAttemptsInGame_last_7_games\", \"average_player_EvenStrengthShotAttemptsInGame_last_3_games\", \"average_game_penaltiesFor_last_3_games\", \"matchup_previous_player_ShotAttemptsInGame\", \"matchup_average_player_ShotAttemptsInGame_last_3_games\", \"matchup_previous_game_savedShotsOnGoalFor\", \"matchup_average_player_PenaltyKillShotAttemptsInGame_last_3_games\", \"average_game_shotsOnGoalAgainst_last_7_games\", \"average_game_playContinuedOutsideZoneFor_last_7_games\", \"matchup_average_player_avgShotDistanceInGame_last_3_games\", \"matchup_average_game_goalsFor_last_7_games\", \"average_game_hitsAgainst_last_3_games\", \"matchup_average_game_shotAttemptsFor_last_7_games\", \"previous_game_giveawaysAgainst\", \"matchup_average_game_blockedShotAttemptsFor_last_3_games\", \"average_game_mediumDangerShotsAgainst_last_3_games\", \"matchup_average_game_savedUnblockedShotAttemptsAgainst_last_7_games\", \"matchup_average_game_goalPercentageFor_last_3_games\", \"opposingTeam\", \"matchup_average_player_GoalsInGame_last_3_games\", \"matchup_average_game_goalsFor_last_3_games\", \"matchup_average_game_faceOffsWonFor_last_7_games\", \"previous_game_lowDangerShotsAgainst\", \"previous_game_penaltiesAgainst\", \"average_game_shotAttemptsFor_last_7_games\", \"average_player_PenaltyKillShotsInGame_last_3_games\", \"average_game_blockedShotAttemptsFor_last_3_games\", \"matchup_average_player_ShotsOnReboundsInGame_last_3_games\"]\n",
    "# col_selector = ColumnSelector(supported_cols)"
   ]
  },
  {
   "cell_type": "markdown",
   "metadata": {
    "application/vnd.databricks.v1+cell": {
     "cellMetadata": {
      "byteLimit": 2048000,
      "rowLimit": 10000
     },
     "inputWidgets": {},
     "nuid": "1266cd2a-5a26-4350-be20-6028f5b4e438",
     "showTitle": false,
     "title": ""
    }
   },
   "source": [
    "## Preprocessors"
   ]
  },
  {
   "cell_type": "markdown",
   "metadata": {
    "application/vnd.databricks.v1+cell": {
     "cellMetadata": {
      "byteLimit": 2048000,
      "rowLimit": 10000
     },
     "inputWidgets": {},
     "nuid": "836a0a93-53a3-43db-86ca-7732448c42fa",
     "showTitle": false,
     "title": ""
    }
   },
   "source": [
    "### Datetime Preprocessor\n",
    "For each datetime column, extract relevant information from the date:\n",
    "- Unix timestamp\n",
    "- whether the date is a weekend\n",
    "- whether the date is a holiday\n",
    "\n",
    "Additionally, extract extra information from columns with timestamps:\n",
    "- hour of the day (one-hot encoded)\n",
    "\n",
    "For cyclic features, plot the values along a unit circle to encode temporal proximity:\n",
    "- hour of the day\n",
    "- hours since the beginning of the week\n",
    "- hours since the beginning of the month\n",
    "- hours since the beginning of the year"
   ]
  },
  {
   "cell_type": "code",
   "execution_count": 0,
   "metadata": {
    "application/vnd.databricks.v1+cell": {
     "cellMetadata": {
      "byteLimit": 2048000,
      "rowLimit": 10000
     },
     "inputWidgets": {},
     "nuid": "54798252-02cd-4d7f-9266-9918b2ca10cf",
     "showTitle": false,
     "title": ""
    },
    "execution": {
     "iopub.execute_input": "2024-04-20T03:00:30.443388Z",
     "iopub.status.busy": "2024-04-20T03:00:30.441496Z",
     "iopub.status.idle": "2024-04-20T03:00:30.455356Z",
     "shell.execute_reply": "2024-04-20T03:00:30.454204Z"
    }
   },
   "outputs": [],
   "source": [
    "from pandas import Timestamp\n",
    "from sklearn.pipeline import Pipeline\n",
    "\n",
    "from databricks.automl_runtime.sklearn import DatetimeImputer\n",
    "from databricks.automl_runtime.sklearn import DateTransformer\n",
    "from sklearn.preprocessing import StandardScaler\n",
    "\n",
    "imputers = {\n",
    "    \"gameDate\": DatetimeImputer(),\n",
    "}\n",
    "\n",
    "date_transformers = []\n",
    "\n",
    "for col in [\"gameDate\"]:\n",
    "    date_preprocessor = Pipeline(\n",
    "        [\n",
    "            (f\"impute_{col}\", imputers[col]),\n",
    "            (f\"transform_{col}\", DateTransformer()),\n",
    "            (f\"standardize_{col}\", StandardScaler()),\n",
    "        ]\n",
    "    )\n",
    "    date_transformers.append((f\"date_{col}\", date_preprocessor, [col]))"
   ]
  },
  {
   "cell_type": "markdown",
   "metadata": {
    "application/vnd.databricks.v1+cell": {
     "cellMetadata": {
      "byteLimit": 2048000,
      "rowLimit": 10000
     },
     "inputWidgets": {},
     "nuid": "69426b04-7e17-4185-8a88-0bf8cfee6541",
     "showTitle": false,
     "title": ""
    }
   },
   "source": [
    "### Boolean columns\n",
    "For each column, impute missing values and then convert into ones and zeros."
   ]
  },
  {
   "cell_type": "code",
   "execution_count": 0,
   "metadata": {
    "application/vnd.databricks.v1+cell": {
     "cellMetadata": {
      "byteLimit": 2048000,
      "rowLimit": 10000
     },
     "inputWidgets": {},
     "nuid": "36ed8ed3-5efa-4e10-b39b-388dbb7e95c8",
     "showTitle": false,
     "title": ""
    },
    "execution": {
     "iopub.execute_input": "2024-04-20T03:00:30.462930Z",
     "iopub.status.busy": "2024-04-20T03:00:30.460741Z",
     "iopub.status.idle": "2024-04-20T03:00:30.472193Z",
     "shell.execute_reply": "2024-04-20T03:00:30.470995Z"
    }
   },
   "outputs": [],
   "source": [
    "from sklearn.compose import ColumnTransformer\n",
    "from sklearn.impute import SimpleImputer\n",
    "from sklearn.pipeline import Pipeline\n",
    "from sklearn.preprocessing import FunctionTransformer\n",
    "from sklearn.preprocessing import OneHotEncoder as SklearnOneHotEncoder\n",
    "\n",
    "\n",
    "bool_imputers = []\n",
    "\n",
    "bool_pipeline = Pipeline(\n",
    "    steps=[\n",
    "        (\"cast_type\", FunctionTransformer(lambda df: df.astype(object))),\n",
    "        (\"imputers\", ColumnTransformer(bool_imputers, remainder=\"passthrough\")),\n",
    "        (\"onehot\", SklearnOneHotEncoder(sparse=False, handle_unknown=\"ignore\", drop=\"first\")),\n",
    "    ]\n",
    ")\n",
    "\n",
    "bool_transformers = [(\"boolean\", bool_pipeline, [\"isHome\"])]"
   ]
  },
  {
   "cell_type": "markdown",
   "metadata": {
    "application/vnd.databricks.v1+cell": {
     "cellMetadata": {
      "byteLimit": 2048000,
      "rowLimit": 10000
     },
     "inputWidgets": {},
     "nuid": "449444d1-e4a9-411c-bc75-e70934b05d1a",
     "showTitle": false,
     "title": ""
    }
   },
   "source": [
    "### Numerical columns\n",
    "\n",
    "Missing values for numerical columns are imputed with mean by default."
   ]
  },
  {
   "cell_type": "code",
   "execution_count": 0,
   "metadata": {
    "application/vnd.databricks.v1+cell": {
     "cellMetadata": {
      "byteLimit": 2048000,
      "rowLimit": 10000
     },
     "inputWidgets": {},
     "nuid": "48e964df-bcbd-4ac3-aec2-69858a99a9d0",
     "showTitle": false,
     "title": ""
    },
    "execution": {
     "iopub.execute_input": "2024-04-20T03:00:30.481445Z",
     "iopub.status.busy": "2024-04-20T03:00:30.479219Z",
     "iopub.status.idle": "2024-04-20T03:00:30.544315Z",
     "shell.execute_reply": "2024-04-20T03:00:30.543067Z"
    }
   },
   "outputs": [],
   "source": [
    "from sklearn.compose import ColumnTransformer\n",
    "from sklearn.impute import SimpleImputer\n",
    "from sklearn.pipeline import Pipeline\n",
    "from sklearn.preprocessing import FunctionTransformer, StandardScaler\n",
    "\n",
    "num_imputers = []\n",
    "num_imputers.append((\"impute_mean\", SimpleImputer(), numerical_cols))\n",
    "\n",
    "numerical_pipeline = Pipeline(\n",
    "    steps=[\n",
    "        (\n",
    "            \"converter\",\n",
    "            FunctionTransformer(lambda df: df.apply(pd.to_numeric, errors=\"coerce\")),\n",
    "        ),\n",
    "        (\"imputers\", ColumnTransformer(num_imputers)),\n",
    "        (\"standardizer\", StandardScaler()),\n",
    "    ]\n",
    ")\n",
    "\n",
    "numerical_transformers = [(\"numerical\", numerical_pipeline, numerical_cols)]"
   ]
  },
  {
   "cell_type": "markdown",
   "metadata": {
    "application/vnd.databricks.v1+cell": {
     "cellMetadata": {
      "byteLimit": 2048000,
      "rowLimit": 10000
     },
     "inputWidgets": {},
     "nuid": "de7b92ca-ccec-489c-b07b-4390e9f5b197",
     "showTitle": false,
     "title": ""
    }
   },
   "source": [
    "### Categorical columns"
   ]
  },
  {
   "cell_type": "markdown",
   "metadata": {
    "application/vnd.databricks.v1+cell": {
     "cellMetadata": {
      "byteLimit": 2048000,
      "rowLimit": 10000
     },
     "inputWidgets": {},
     "nuid": "c5a45672-fc9e-4605-9add-473c51eb3dd8",
     "showTitle": false,
     "title": ""
    }
   },
   "source": [
    "#### Low-cardinality categoricals\n",
    "Convert each low-cardinality categorical column into multiple binary columns through one-hot encoding.\n",
    "For each input categorical column (string or numeric), the number of output columns is equal to the number of unique values in the input column."
   ]
  },
  {
   "cell_type": "code",
   "execution_count": 0,
   "metadata": {
    "application/vnd.databricks.v1+cell": {
     "cellMetadata": {
      "byteLimit": 2048000,
      "rowLimit": 10000
     },
     "inputWidgets": {},
     "nuid": "83fb2cad-60e9-4fea-86be-377c3de440c6",
     "showTitle": false,
     "title": ""
    }
   },
   "outputs": [],
   "source": [
    "print(categorical_cols)"
   ]
  },
  {
   "cell_type": "code",
   "execution_count": 0,
   "metadata": {
    "application/vnd.databricks.v1+cell": {
     "cellMetadata": {
      "byteLimit": 2048000,
      "rowLimit": 10000
     },
     "inputWidgets": {},
     "nuid": "2850a343-946a-4a5b-ac17-9068ca03a70c",
     "showTitle": false,
     "title": ""
    }
   },
   "outputs": [],
   "source": [
    "categorical_cols_value_counts = {}\n",
    "\n",
    "for col in categorical_cols:\n",
    "    value_counts = spark.sql(f\"SELECT COUNT(DISTINCT {col}) as count FROM lr_nhl_demo.dev.gold_model_stats_delta_v2\").toPandas()\n",
    "    categorical_cols_value_counts[col] = value_counts\n",
    "\n",
    "categorical_cols_value_counts"
   ]
  },
  {
   "cell_type": "markdown",
   "metadata": {
    "application/vnd.databricks.v1+cell": {
     "cellMetadata": {},
     "inputWidgets": {},
     "nuid": "d3cb3046-5d09-4184-b4dc-286fbab8ceb7",
     "showTitle": false,
     "title": ""
    }
   },
   "source": [
    "### Index High-Cardinality 'Teams' columns"
   ]
  },
  {
   "cell_type": "code",
   "execution_count": 0,
   "metadata": {
    "application/vnd.databricks.v1+cell": {
     "cellMetadata": {
      "byteLimit": 2048000,
      "rowLimit": 10000
     },
     "inputWidgets": {},
     "nuid": "0f25ca62-b7a1-4202-af1e-01818f75460c",
     "showTitle": false,
     "title": ""
    }
   },
   "outputs": [],
   "source": [
    "from sklearn.base import BaseEstimator, TransformerMixin\n",
    "from sklearn.preprocessing import OrdinalEncoder\n",
    "from sklearn.pipeline import Pipeline\n",
    "\n",
    "class CategoricalIndexer(BaseEstimator, TransformerMixin):\n",
    "    def __init__(self, categorical_cols):\n",
    "        self.categorical_cols = categorical_cols\n",
    "        self.encoders = {}\n",
    "\n",
    "    def fit(self, X, y=None):\n",
    "        for col in self.categorical_cols:\n",
    "            encoder = OrdinalEncoder(handle_unknown='use_encoded_value', unknown_value=-1)\n",
    "            encoder.fit(X[[col]])\n",
    "            self.encoders[col] = encoder\n",
    "        return self\n",
    "\n",
    "    def transform(self, X):\n",
    "        X_copy = X.copy()\n",
    "        for col, encoder in self.encoders.items():\n",
    "            X_copy[col] = encoder.transform(X_copy[[col]])\n",
    "        return X_copy\n",
    "\n",
    "\n",
    "team_categorical_cols = ['playerTeam', 'previous_opposingTeam', 'opposingTeam']\n",
    "\n",
    "indexer_pipeline = Pipeline(\n",
    "    steps=[\n",
    "        ('categorical_indexer', CategoricalIndexer(team_categorical_cols)),\n",
    "    ]\n",
    ")\n",
    "\n",
    "indexer_transformers = [(\"indexer\", indexer_pipeline, team_categorical_cols)]"
   ]
  },
  {
   "cell_type": "code",
   "execution_count": 0,
   "metadata": {
    "application/vnd.databricks.v1+cell": {
     "cellMetadata": {
      "byteLimit": 2048000,
      "rowLimit": 10000
     },
     "inputWidgets": {},
     "nuid": "f812a6ab-ed75-4f8e-a5bd-e528242363ca",
     "showTitle": false,
     "title": ""
    },
    "execution": {
     "iopub.execute_input": "2024-04-20T03:00:30.556288Z",
     "iopub.status.busy": "2024-04-20T03:00:30.553947Z",
     "iopub.status.idle": "2024-04-20T03:00:30.565183Z",
     "shell.execute_reply": "2024-04-20T03:00:30.564038Z"
    }
   },
   "outputs": [],
   "source": [
    "from databricks.automl_runtime.sklearn import OneHotEncoder\n",
    "from sklearn.compose import ColumnTransformer\n",
    "from sklearn.impute import SimpleImputer\n",
    "from sklearn.pipeline import Pipeline, FeatureUnion\n",
    "\n",
    "one_hot_imputers = []\n",
    "\n",
    "one_hot_pipeline = Pipeline(\n",
    "    steps=[\n",
    "        (\"imputers\", ColumnTransformer(one_hot_imputers, remainder=\"passthrough\")),\n",
    "        (\"one_hot_encoder\", OneHotEncoder(sparse=False, handle_unknown=\"indicator\")),\n",
    "    ]\n",
    ")\n",
    "\n",
    "categorical_one_hot_transformers = [(\"onehot\", one_hot_pipeline, ['position'])]"
   ]
  },
  {
   "cell_type": "code",
   "execution_count": 0,
   "metadata": {
    "application/vnd.databricks.v1+cell": {
     "cellMetadata": {
      "byteLimit": 2048000,
      "rowLimit": 10000
     },
     "inputWidgets": {},
     "nuid": "91f095fa-0dcd-4c86-8bc8-f53651190ae0",
     "showTitle": false,
     "title": ""
    },
    "execution": {
     "iopub.execute_input": "2024-04-20T03:00:30.572914Z",
     "iopub.status.busy": "2024-04-20T03:00:30.570854Z",
     "iopub.status.idle": "2024-04-20T03:00:30.579311Z",
     "shell.execute_reply": "2024-04-20T03:00:30.578205Z"
    }
   },
   "outputs": [],
   "source": [
    "from sklearn.compose import ColumnTransformer\n",
    "\n",
    "transformers = (\n",
    "    date_transformers\n",
    "    + bool_transformers\n",
    "    + numerical_transformers\n",
    "    + indexer_transformers\n",
    "    + categorical_one_hot_transformers\n",
    ")\n",
    "\n",
    "preprocessor = ColumnTransformer(\n",
    "    transformers, remainder=\"passthrough\", sparse_threshold=0\n",
    ")"
   ]
  },
  {
   "cell_type": "markdown",
   "metadata": {
    "application/vnd.databricks.v1+cell": {
     "cellMetadata": {
      "byteLimit": 2048000,
      "rowLimit": 10000
     },
     "inputWidgets": {},
     "nuid": "15dd668a-b9b1-4ec2-a7c8-d8c06347cdc5",
     "showTitle": false,
     "title": ""
    }
   },
   "source": [
    "### Define Feature Selection Methods"
   ]
  },
  {
   "cell_type": "code",
   "execution_count": 0,
   "metadata": {
    "application/vnd.databricks.v1+cell": {
     "cellMetadata": {
      "byteLimit": 2048000,
      "rowLimit": 10000
     },
     "inputWidgets": {},
     "nuid": "1584bb98-aee5-44da-a624-5ba962fcfe99",
     "showTitle": false,
     "title": ""
    }
   },
   "outputs": [],
   "source": [
    "from sklearn.feature_selection import SelectKBest, mutual_info_classif\n",
    "\n",
    "mi_pipeline = Pipeline(\n",
    "    steps=[\n",
    "        (\"mi_selector\", SelectKBest(score_func=mutual_info_classif, k=100)),\n",
    "    ]\n",
    ")"
   ]
  },
  {
   "cell_type": "code",
   "execution_count": 0,
   "metadata": {
    "application/vnd.databricks.v1+cell": {
     "cellMetadata": {
      "byteLimit": 2048000,
      "rowLimit": 10000
     },
     "inputWidgets": {},
     "nuid": "14c5b8ed-c5c1-421a-adb2-d48237a0bab0",
     "showTitle": false,
     "title": ""
    }
   },
   "outputs": [],
   "source": [
    "from sklearn.feature_selection import RFE\n",
    "from sklearn.ensemble import RandomForestClassifier\n",
    "\n",
    "rfe_pipeline = Pipeline(\n",
    "    steps=[\n",
    "        (\n",
    "            \"rfe_selector\",\n",
    "            RFE(estimator=RandomForestClassifier(), n_features_to_select=100, step=10),\n",
    "        ),\n",
    "    ]\n",
    ")"
   ]
  },
  {
   "cell_type": "code",
   "execution_count": 0,
   "metadata": {
    "application/vnd.databricks.v1+cell": {
     "cellMetadata": {
      "byteLimit": 2048000,
      "rowLimit": 10000
     },
     "inputWidgets": {},
     "nuid": "a3bf2691-7961-4003-82cf-d1db89b48e47",
     "showTitle": false,
     "title": ""
    }
   },
   "outputs": [],
   "source": [
    "from sklearn.base import BaseEstimator, TransformerMixin\n",
    "import numpy as np\n",
    "import pandas as pd\n",
    "from sklearn.pipeline import Pipeline, FeatureUnion\n",
    "from sklearn.ensemble import RandomForestRegressor\n",
    "\n",
    "class FeatureImportanceSelector(BaseEstimator, TransformerMixin):\n",
    "    def __init__(self, model, n_features):\n",
    "        self.model = model\n",
    "        self.n_features = n_features\n",
    "        self.feature_names_in_ = None\n",
    "\n",
    "    def fit(self, X, y=None):\n",
    "        self.feature_names_in_ = X.columns if hasattr(X, 'columns') else None\n",
    "        self.model.fit(X, y)\n",
    "        self.importances_ = self.model.feature_importances_\n",
    "        self.indices_ = np.argsort(self.importances_)[-self.n_features:]\n",
    "        return self\n",
    "\n",
    "    def transform(self, X):\n",
    "        if isinstance(X, pd.DataFrame):\n",
    "            return X.iloc[:, self.indices_]\n",
    "        return X[:, self.indices_]\n",
    "\n",
    "    def get_feature_names_out(self):\n",
    "        if self.feature_names_in_ is not None:\n",
    "            return np.array(self.feature_names_in_)[self.indices_]\n",
    "        else:\n",
    "            return np.array([f'feature_{i}' for i in range(len(self.indices_))])\n",
    "\n",
    "        \n",
    "rf_pipeline = Pipeline(\n",
    "    steps=[\n",
    "        (\"rf_selector\", RandomForestRegressor(n_estimators=5, random_state=42)),\n",
    "    ]\n",
    ")"
   ]
  },
  {
   "cell_type": "code",
   "execution_count": 0,
   "metadata": {
    "application/vnd.databricks.v1+cell": {
     "cellMetadata": {
      "byteLimit": 2048000,
      "rowLimit": 10000
     },
     "inputWidgets": {},
     "nuid": "c9f88b9d-8d43-4b95-96a0-5b609f89f1ee",
     "showTitle": false,
     "title": ""
    }
   },
   "outputs": [],
   "source": [
    "from sklearn.feature_selection import SelectFromModel, SelectKBest, mutual_info_classif, RFE\n",
    "\n",
    "feature_union = FeatureUnion(\n",
    "    [\n",
    "        (\"mi_pipeline\", SelectFromModel(mi_pipeline)),\n",
    "        (\"rfe_pipeline\", SelectFromModel(rfe_pipeline)),\n",
    "        (\"rf_pipeline\", SelectFromModel(rf_pipeline)),\n",
    "    ]\n",
    ")"
   ]
  },
  {
   "cell_type": "markdown",
   "metadata": {
    "application/vnd.databricks.v1+cell": {
     "cellMetadata": {
      "byteLimit": 2048000,
      "rowLimit": 10000
     },
     "inputWidgets": {},
     "nuid": "93a5995c-bb69-4ab3-bd1b-7633b429d94e",
     "showTitle": false,
     "title": ""
    }
   },
   "source": [
    "## Train - Validation - Test Split\n",
    "The input data is split by AutoML into 3 sets:\n",
    "- Train (60% of the dataset used to train the model)\n",
    "- Validation (20% of the dataset used to tune the hyperparameters of the model)\n",
    "- Test (20% of the dataset used to report the true performance of the model on an unseen dataset)\n",
    "\n",
    "`_automl_split_col_0000` contains the information of which set a given row belongs to.\n",
    "We use this column to split the dataset into the above 3 sets. \n",
    "The column should not be used for training so it is dropped after split is done.\n",
    "\n",
    "Given that `gameDate` is provided as the `time_col`, the data is split based on time order,\n",
    "where the most recent data is split to the test data."
   ]
  },
  {
   "cell_type": "code",
   "execution_count": 0,
   "metadata": {
    "application/vnd.databricks.v1+cell": {
     "cellMetadata": {
      "byteLimit": 2048000,
      "rowLimit": 10000
     },
     "inputWidgets": {},
     "nuid": "b7288036-a11a-468f-9eda-13b20b49f13b",
     "showTitle": true,
     "title": "random split"
    }
   },
   "outputs": [],
   "source": [
    "# from sklearn.model_selection import train_test_split\n",
    "\n",
    "# # Convert df_loaded to Pandas DataFrame\n",
    "# df_loaded_pd = df_loaded.toPandas()\n",
    "\n",
    "# # Separate target column from features\n",
    "# X = df_loaded_pd.drop([target_col], axis=1)\n",
    "# y = df_loaded_pd[target_col]\n",
    "\n",
    "# # Split the data into train and test datasets\n",
    "# X_train, X_test, y_train, y_test = train_test_split(X, y, test_size=0.2, random_state=42)\n",
    "\n",
    "# # Split the train dataset into train and validation datasets\n",
    "# X_train, X_val, y_train, y_val = train_test_split(X_train, y_train, test_size=0.25, random_state=42)"
   ]
  },
  {
   "cell_type": "code",
   "execution_count": 0,
   "metadata": {
    "application/vnd.databricks.v1+cell": {
     "cellMetadata": {
      "byteLimit": 2048000,
      "rowLimit": 10000
     },
     "inputWidgets": {},
     "nuid": "63c740f3-909b-477d-98c5-06af6044c6d6",
     "showTitle": true,
     "title": "time col split"
    }
   },
   "outputs": [],
   "source": [
    "# Convert df_loaded to Pandas DataFrame\n",
    "df_loaded_pd = df_loaded.toPandas()\n",
    "\n",
    "# Sort the DataFrame based on the date column\n",
    "df_loaded_pd = df_loaded_pd.sort_values(time_col)\n",
    "\n",
    "# Determine the indices to split the DataFrame\n",
    "train_size = int(0.6 * len(df_loaded_pd))\n",
    "val_size = int(0.2 * len(df_loaded_pd))\n",
    "\n",
    "train_indices = list(range(train_size))\n",
    "val_indices = list(range(train_size, train_size + val_size))\n",
    "test_indices = list(range(train_size + val_size, len(df_loaded_pd)))\n",
    "\n",
    "# Split the DataFrame into training, validation, and test sets\n",
    "split_train_df = df_loaded_pd.iloc[train_indices]\n",
    "split_val_df = df_loaded_pd.iloc[val_indices]\n",
    "split_test_df = df_loaded_pd.iloc[test_indices]"
   ]
  },
  {
   "cell_type": "code",
   "execution_count": 0,
   "metadata": {
    "application/vnd.databricks.v1+cell": {
     "cellMetadata": {
      "byteLimit": 2048000,
      "rowLimit": 10000
     },
     "inputWidgets": {},
     "nuid": "b31ebbc1-0c1f-42bc-a847-cb6518fe3c7b",
     "showTitle": false,
     "title": ""
    },
    "execution": {
     "iopub.execute_input": "2024-04-20T03:00:30.587048Z",
     "iopub.status.busy": "2024-04-20T03:00:30.584960Z",
     "iopub.status.idle": "2024-04-20T03:00:30.697056Z",
     "shell.execute_reply": "2024-04-20T03:00:30.695791Z"
    }
   },
   "outputs": [],
   "source": [
    "# Separate target column from features and drop _automl_split_col_0000\n",
    "X_train = split_train_df.drop([target_col], axis=1)\n",
    "y_train = split_train_df[target_col]\n",
    "\n",
    "X_val = split_val_df.drop([target_col], axis=1)\n",
    "y_val = split_val_df[target_col]\n",
    "\n",
    "X_test = split_test_df.drop([target_col], axis=1)\n",
    "y_test = split_test_df[target_col]"
   ]
  },
  {
   "cell_type": "markdown",
   "metadata": {
    "application/vnd.databricks.v1+cell": {
     "cellMetadata": {},
     "inputWidgets": {},
     "nuid": "ee51bd30-5be2-4691-a59f-dda1dc6398d9",
     "showTitle": false,
     "title": ""
    }
   },
   "source": [
    "### Test Feature Selection Code"
   ]
  },
  {
   "cell_type": "code",
   "execution_count": 0,
   "metadata": {
    "application/vnd.databricks.v1+cell": {
     "cellMetadata": {
      "byteLimit": 2048000,
      "rowLimit": 10000
     },
     "inputWidgets": {},
     "nuid": "2c9a00be-9705-4656-8ba9-083b841a39a4",
     "showTitle": false,
     "title": ""
    }
   },
   "outputs": [],
   "source": [
    "from sklearn.ensemble import RandomForestRegressor\n",
    "from sklearn.linear_model import LogisticRegression\n",
    "from databricks.automl_runtime.sklearn.column_selector import ColumnSelector\n",
    "\n",
    "import lightgbm\n",
    "from lightgbm import LGBMRegressor\n",
    "\n",
    "from sklearn import set_config\n",
    "set_config(transform_output=\"pandas\")\n",
    "\n",
    "# Create the full pipeline\n",
    "features_pipeline = Pipeline(\n",
    "    [\n",
    "        (\"column_selector\", col_selector),\n",
    "        (\"preprocessor\", preprocessor),\n",
    "        # (\"feature_selector\", SelectFromModel(RandomForestRegressor(n_estimators=5, random_state=42))),\n",
    "        (\"feature_selector\", feature_union),\n",
    "    ]\n",
    ")\n",
    "\n",
    "model = Pipeline(\n",
    "    [\n",
    "        (\"regressor\", LGBMRegressor()),\n",
    "    ]\n",
    ")\n",
    "# rf = features_pipeline.fit(X_train, y_train)\n",
    "# print(rf.feature_importances_)\n",
    "\n",
    "# model = SelectFromModel(rf, prefit=True)\n",
    "# feature_idx = model.get_support()\n",
    "# feature_name = X_train.columns[feature_idx]\n",
    "# feature_name\n",
    "\n",
    "# Fit the full pipeline"
   ]
  },
  {
   "cell_type": "code",
   "execution_count": 0,
   "metadata": {
    "application/vnd.databricks.v1+cell": {
     "cellMetadata": {
      "byteLimit": 2048000,
      "rowLimit": 10000
     },
     "inputWidgets": {},
     "nuid": "246b49ed-f104-4268-850b-87784ea0347e",
     "showTitle": false,
     "title": ""
    }
   },
   "outputs": [],
   "source": [
    "set_config(transform_output=\"pandas\")\n",
    "\n",
    "features_pipeline.fit(X_train, y_train)"
   ]
  },
  {
   "cell_type": "code",
   "execution_count": 0,
   "metadata": {
    "application/vnd.databricks.v1+cell": {
     "cellMetadata": {
      "byteLimit": 2048000,
      "rowLimit": 10000
     },
     "inputWidgets": {},
     "nuid": "c43d4f4b-5aa4-4419-9d07-a14d3386ae24",
     "showTitle": false,
     "title": ""
    }
   },
   "outputs": [],
   "source": [
    "processed_X_train = features_pipeline.transform(X_train)\n",
    "\n",
    "processed_X_train\n",
    "\n",
    "## Fit the regressor\n",
    "# model.fit(processed_X_train, y_train)"
   ]
  },
  {
   "cell_type": "code",
   "execution_count": 0,
   "metadata": {
    "application/vnd.databricks.v1+cell": {
     "cellMetadata": {
      "byteLimit": 2048000,
      "rowLimit": 10000
     },
     "inputWidgets": {},
     "nuid": "8936df73-9828-47d6-950c-997c5b4b02b1",
     "showTitle": false,
     "title": ""
    }
   },
   "outputs": [],
   "source": [
    "# Get selected columns\n",
    "selected_columns = features_pipeline.named_steps['feature_selector'].get_support()\n",
    "print(\"Selected feature names count:\", len(selected_columns))\n",
    "\n",
    "# TO DO: convert X_train below to be the preprocessed dataset\n",
    "# feature_name = X_train.columns[selected_columns]\n",
    "# feature_name"
   ]
  },
  {
   "cell_type": "markdown",
   "metadata": {
    "application/vnd.databricks.v1+cell": {
     "cellMetadata": {
      "byteLimit": 2048000,
      "rowLimit": 10000
     },
     "inputWidgets": {},
     "nuid": "35f79196-6cea-4f20-aa58-4ccdb4cb8f8b",
     "showTitle": false,
     "title": ""
    }
   },
   "source": [
    "## Train regression model\n",
    "- Log relevant metrics to MLflow to track runs\n",
    "- All the runs are logged under [this MLflow experiment](#mlflow/experiments/2824690123542843)\n",
    "- Change the model parameters and re-run the training cell to log a different trial to the MLflow experiment\n",
    "- To view the full list of tunable hyperparameters, check the output of the cell below"
   ]
  },
  {
   "cell_type": "code",
   "execution_count": 0,
   "metadata": {
    "application/vnd.databricks.v1+cell": {
     "cellMetadata": {
      "byteLimit": 2048000,
      "rowLimit": 10000
     },
     "inputWidgets": {},
     "nuid": "1d5bb372-c235-44bc-b971-9bf3dff8be58",
     "showTitle": false,
     "title": ""
    },
    "execution": {
     "iopub.execute_input": "2024-04-20T03:00:30.705046Z",
     "iopub.status.busy": "2024-04-20T03:00:30.703099Z",
     "iopub.status.idle": "2024-04-20T03:00:30.765311Z",
     "shell.execute_reply": "2024-04-20T03:00:30.763305Z"
    }
   },
   "outputs": [],
   "source": [
    "help(LGBMRegressor)"
   ]
  },
  {
   "cell_type": "markdown",
   "metadata": {
    "application/vnd.databricks.v1+cell": {
     "cellMetadata": {
      "byteLimit": 2048000,
      "rowLimit": 10000
     },
     "inputWidgets": {},
     "nuid": "4f95e239-9160-49ad-bfc8-1aec2cd972df",
     "showTitle": false,
     "title": ""
    }
   },
   "source": [
    "### Define the objective function\n",
    "The objective function used to find optimal hyperparameters. By default, this notebook only runs\n",
    "this function once (`max_evals=1` in the `hyperopt.fmin` invocation) with fixed hyperparameters, but\n",
    "hyperparameters can be tuned by modifying `space`, defined below. `hyperopt.fmin` will then use this\n",
    "function's return value to search the space to minimize the loss."
   ]
  },
  {
   "cell_type": "code",
   "execution_count": 0,
   "metadata": {
    "application/vnd.databricks.v1+cell": {
     "cellMetadata": {
      "byteLimit": 2048000,
      "rowLimit": 10000
     },
     "inputWidgets": {},
     "nuid": "5f47bb63-2cee-4203-92df-cab1c57fd070",
     "showTitle": false,
     "title": ""
    },
    "execution": {
     "iopub.execute_input": "2024-04-20T03:00:30.772763Z",
     "iopub.status.busy": "2024-04-20T03:00:30.770858Z",
     "iopub.status.idle": "2024-04-20T03:00:33.897564Z",
     "shell.execute_reply": "2024-04-20T03:00:33.896290Z"
    }
   },
   "outputs": [],
   "source": [
    "import mlflow\n",
    "from mlflow.models import Model, infer_signature, ModelSignature\n",
    "from mlflow.pyfunc import PyFuncModel\n",
    "from mlflow import pyfunc\n",
    "import sklearn\n",
    "from sklearn import set_config\n",
    "from sklearn.pipeline import Pipeline\n",
    "from hyperopt import hp, tpe, fmin, STATUS_OK, Trials\n",
    "\n",
    "\n",
    "# Create a separate pipeline to transform the validation dataset. This is used for early stopping.\n",
    "preprocess_pipeline = Pipeline(\n",
    "    [\n",
    "        (\"column_selector\", col_selector),\n",
    "        (\"preprocessor\", preprocessor),\n",
    "        (\"feature_selector\", SelectFromModel(RandomForestRegressor(n_estimators=5, random_state=42))),\n",
    "    ]\n",
    ")\n",
    "\n",
    "mlflow.sklearn.autolog(disable=True)\n",
    "preprocess_pipeline.fit(X_train, y_train)\n",
    "X_val_processed = preprocess_pipeline.transform(X_val)\n",
    "\n",
    "X_train_processed = preprocess_pipeline.transform(X_train)\n",
    "X_test_processed = preprocess_pipeline.transform(X_test)\n",
    "\n",
    "def objective(params):\n",
    "    with mlflow.start_run(experiment_id=\"2824690123542843\") as mlflow_run:\n",
    "        lgbmr_regressor = LGBMRegressor(**params)\n",
    "\n",
    "        model = Pipeline(\n",
    "            [\n",
    "                (\"regressor\", lgbmr_regressor),\n",
    "            ]\n",
    "        )\n",
    "\n",
    "        # Enable automatic logging of input samples, metrics, parameters, and models\n",
    "        mlflow.sklearn.autolog(\n",
    "            log_input_examples=True,\n",
    "            silent=True,\n",
    "        )\n",
    "\n",
    "        model.fit(\n",
    "            X_train_processed,\n",
    "            y_train,\n",
    "            regressor__callbacks=[\n",
    "                lightgbm.early_stopping(5),\n",
    "                lightgbm.log_evaluation(0),\n",
    "            ],\n",
    "            regressor__eval_set=[(X_val_processed, y_val)],\n",
    "        )\n",
    "\n",
    "        # Log metrics for the training set\n",
    "        mlflow_model = Model()\n",
    "        pyfunc.add_to_model(mlflow_model, loader_module=\"mlflow.sklearn\")\n",
    "        pyfunc_model = PyFuncModel(model_meta=mlflow_model, model_impl=model)\n",
    "        training_eval_result = mlflow.evaluate(\n",
    "            model=pyfunc_model,\n",
    "            data=X_train_processed.assign(**{str(target_col): y_train}),\n",
    "            targets=target_col,\n",
    "            model_type=\"regressor\",\n",
    "            evaluator_config={\n",
    "                \"log_model_explainability\": False,\n",
    "                \"metric_prefix\": \"training_\",\n",
    "            },\n",
    "        )\n",
    "        # Log metrics for the validation set\n",
    "        val_eval_result = mlflow.evaluate(\n",
    "            model=pyfunc_model,\n",
    "            data=X_val_processed.assign(**{str(target_col): y_val}),\n",
    "            targets=target_col,\n",
    "            model_type=\"regressor\",\n",
    "            evaluator_config={\n",
    "                \"log_model_explainability\": False,\n",
    "                \"metric_prefix\": \"val_\",\n",
    "            },\n",
    "        )\n",
    "        lgbmr_val_metrics = val_eval_result.metrics\n",
    "        # Log metrics for the test set\n",
    "        test_eval_result = mlflow.evaluate(\n",
    "            model=pyfunc_model,\n",
    "            data=X_test_processed.assign(**{str(target_col): y_test}),\n",
    "            targets=target_col,\n",
    "            model_type=\"regressor\",\n",
    "            evaluator_config={\n",
    "                \"log_model_explainability\": False,\n",
    "                \"metric_prefix\": \"test_\",\n",
    "            },\n",
    "        )\n",
    "        lgbmr_test_metrics = test_eval_result.metrics\n",
    "\n",
    "        loss = -lgbmr_val_metrics[\"val_r2_score\"]\n",
    "\n",
    "        # Truncate metric key names so they can be displayed together\n",
    "        lgbmr_val_metrics = {\n",
    "            k.replace(\"val_\", \"\"): v for k, v in lgbmr_val_metrics.items()\n",
    "        }\n",
    "        lgbmr_test_metrics = {\n",
    "            k.replace(\"test_\", \"\"): v for k, v in lgbmr_test_metrics.items()\n",
    "        }\n",
    "\n",
    "        # # Add these lines to print the selected features\n",
    "        # feature_names = model.named_steps['preprocessor'].get_feature_names_out()\n",
    "        # selected_features = model.named_steps['feature_selection'].get_feature_names_out()\n",
    "        # print(\"Selected features after pipeline:\", selected_features)\n",
    "        # mlflow.log_param(\"selected_features\", selected_features.tolist())\n",
    "\n",
    "        return {\n",
    "            \"loss\": loss,\n",
    "            \"status\": STATUS_OK,\n",
    "            \"val_metrics\": lgbmr_val_metrics,\n",
    "            \"test_metrics\": lgbmr_test_metrics,\n",
    "            \"model\": model,\n",
    "            \"run\": mlflow_run,\n",
    "        }\n",
    "\n",
    "X_train_processed"
   ]
  },
  {
   "cell_type": "code",
   "execution_count": 0,
   "metadata": {
    "application/vnd.databricks.v1+cell": {
     "cellMetadata": {
      "byteLimit": 2048000,
      "rowLimit": 10000
     },
     "inputWidgets": {},
     "nuid": "92b98264-f694-4496-bd97-ccf4350f31f1",
     "showTitle": false,
     "title": ""
    }
   },
   "outputs": [],
   "source": []
  },
  {
   "cell_type": "markdown",
   "metadata": {
    "application/vnd.databricks.v1+cell": {
     "cellMetadata": {
      "byteLimit": 2048000,
      "rowLimit": 10000
     },
     "inputWidgets": {},
     "nuid": "8127005b-63ba-4f7b-8027-c382b9fcb2ab",
     "showTitle": false,
     "title": ""
    }
   },
   "source": [
    "### Configure the hyperparameter search space\n",
    "Configure the search space of parameters. Parameters below are all constant expressions but can be\n",
    "modified to widen the search space. For example, when training a decision tree regressor, to allow\n",
    "the maximum tree depth to be either 2 or 3, set the key of 'max_depth' to\n",
    "`hp.choice('max_depth', [2, 3])`. Be sure to also increase `max_evals` in the `fmin` call below.\n",
    "\n",
    "See https://docs.databricks.com/applications/machine-learning/automl-hyperparam-tuning/index.html\n",
    "for more information on hyperparameter tuning as well as\n",
    "http://hyperopt.github.io/hyperopt/getting-started/search_spaces/ for documentation on supported\n",
    "search expressions.\n",
    "\n",
    "For documentation on parameters used by the model in use, please see:\n",
    "https://lightgbm.readthedocs.io/en/stable/pythonapi/lightgbm.LGBMRegressor.html\n",
    "\n",
    "NOTE: The above URL points to a stable version of the documentation corresponding to the last\n",
    "released version of the package. The documentation may differ slightly for the package version\n",
    "used by this notebook."
   ]
  },
  {
   "cell_type": "code",
   "execution_count": 0,
   "metadata": {
    "application/vnd.databricks.v1+cell": {
     "cellMetadata": {
      "byteLimit": 2048000,
      "rowLimit": 10000
     },
     "inputWidgets": {},
     "nuid": "08f2166a-38cc-4e30-ba5a-6e2dd1b0d99c",
     "showTitle": false,
     "title": ""
    },
    "execution": {
     "iopub.execute_input": "2024-04-20T03:00:33.905650Z",
     "iopub.status.busy": "2024-04-20T03:00:33.903768Z",
     "iopub.status.idle": "2024-04-20T03:00:33.912497Z",
     "shell.execute_reply": "2024-04-20T03:00:33.911379Z"
    }
   },
   "outputs": [],
   "source": [
    "space = {\n",
    "    \"colsample_bytree\": 0.6587254729574785,\n",
    "    \"lambda_l1\": 0.18965542130830132,\n",
    "    \"lambda_l2\": 1.9402892441576718,\n",
    "    \"learning_rate\": 0.02517876184843777,\n",
    "    \"max_bin\": 29,\n",
    "    \"max_depth\": 8,\n",
    "    \"min_child_samples\": 140,\n",
    "    \"n_estimators\": 287,\n",
    "    \"num_leaves\": 166,\n",
    "    \"subsample\": 0.7501639626721491,\n",
    "    \"random_state\": 729986891,\n",
    "}"
   ]
  },
  {
   "cell_type": "markdown",
   "metadata": {
    "application/vnd.databricks.v1+cell": {
     "cellMetadata": {},
     "inputWidgets": {},
     "nuid": "2e7ca9f3-d084-423c-b315-32bb26ce4acb",
     "showTitle": false,
     "title": ""
    }
   },
   "source": [
    "### Run trials\n",
    "When widening the search space and training multiple models, switch to `SparkTrials` to parallelize\n",
    "training on Spark:\n",
    "```\n",
    "from hyperopt import SparkTrials\n",
    "trials = SparkTrials()\n",
    "```\n",
    "\n",
    "NOTE: While `Trials` starts an MLFlow run for each set of hyperparameters, `SparkTrials` only starts\n",
    "one top-level run; it will start a subrun for each set of hyperparameters.\n",
    "\n",
    "See http://hyperopt.github.io/hyperopt/scaleout/spark/ for more info."
   ]
  },
  {
   "cell_type": "code",
   "execution_count": 0,
   "metadata": {
    "application/vnd.databricks.v1+cell": {
     "cellMetadata": {
      "byteLimit": 2048000,
      "rowLimit": 10000
     },
     "inputWidgets": {},
     "nuid": "283c8654-0491-4574-bf4e-acd302795c34",
     "showTitle": false,
     "title": ""
    }
   },
   "outputs": [],
   "source": [
    "from hyperopt import SparkTrials\n",
    "trials = SparkTrials()"
   ]
  },
  {
   "cell_type": "code",
   "execution_count": 0,
   "metadata": {
    "application/vnd.databricks.v1+cell": {
     "cellMetadata": {
      "byteLimit": 2048000,
      "rowLimit": 10000
     },
     "inputWidgets": {},
     "nuid": "87a5b116-baa2-4eb8-a843-efb337e1617c",
     "showTitle": false,
     "title": ""
    },
    "execution": {
     "iopub.execute_input": "2024-04-20T03:00:33.920231Z",
     "iopub.status.busy": "2024-04-20T03:00:33.918199Z",
     "iopub.status.idle": "2024-04-20T03:02:16.229675Z",
     "shell.execute_reply": "2024-04-20T03:02:16.228289Z"
    }
   },
   "outputs": [],
   "source": [
    "# trials = Trials()\n",
    "fmin(\n",
    "    objective,\n",
    "    space=space,\n",
    "    algo=tpe.suggest,\n",
    "    max_evals=1,  # Increase this when widening the hyperparameter search space.\n",
    "    trials=trials,\n",
    ")\n",
    "\n",
    "best_result = trials.best_trial[\"result\"]\n",
    "model = best_result[\"model\"]\n",
    "mlflow_run = best_result[\"run\"]\n",
    "\n",
    "display(\n",
    "    pd.DataFrame(\n",
    "        [best_result[\"val_metrics\"], best_result[\"test_metrics\"]],\n",
    "        index=[\"validation\", \"test\"],\n",
    "    )\n",
    ")\n",
    "\n",
    "set_config(display=\"diagram\")\n",
    "model"
   ]
  },
  {
   "cell_type": "markdown",
   "metadata": {
    "application/vnd.databricks.v1+cell": {
     "cellMetadata": {},
     "inputWidgets": {},
     "nuid": "1ceaf70b-8326-4115-b80b-ebd34681e562",
     "showTitle": false,
     "title": ""
    }
   },
   "source": [
    "### Patch pandas version in logged model\n",
    "\n",
    "Ensures that model serving uses the same version of pandas that was used to train the model."
   ]
  },
  {
   "cell_type": "code",
   "execution_count": 0,
   "metadata": {
    "application/vnd.databricks.v1+cell": {
     "cellMetadata": {
      "byteLimit": 2048000,
      "rowLimit": 10000
     },
     "inputWidgets": {},
     "nuid": "53d09c91-1ede-4c3a-9d0a-4bc66a3a51f1",
     "showTitle": false,
     "title": ""
    },
    "execution": {
     "iopub.execute_input": "2024-04-20T03:02:16.235238Z",
     "iopub.status.busy": "2024-04-20T03:02:16.234445Z",
     "iopub.status.idle": "2024-04-20T03:02:18.733318Z",
     "shell.execute_reply": "2024-04-20T03:02:18.731250Z"
    }
   },
   "outputs": [],
   "source": [
    "import mlflow\n",
    "import os\n",
    "import shutil\n",
    "import tempfile\n",
    "import yaml\n",
    "\n",
    "run_id = mlflow_run.info.run_id\n",
    "\n",
    "# Set up a local dir for downloading the artifacts.\n",
    "tmp_dir = tempfile.mkdtemp()\n",
    "\n",
    "client = mlflow.tracking.MlflowClient()\n",
    "\n",
    "# Fix conda.yaml\n",
    "conda_file_path = mlflow.artifacts.download_artifacts(\n",
    "    artifact_uri=f\"runs:/{run_id}/model/conda.yaml\", dst_path=tmp_dir\n",
    ")\n",
    "with open(conda_file_path) as f:\n",
    "    conda_libs = yaml.load(f, Loader=yaml.FullLoader)\n",
    "pandas_lib_exists = any(\n",
    "    [lib.startswith(\"pandas==\") for lib in conda_libs[\"dependencies\"][-1][\"pip\"]]\n",
    ")\n",
    "if not pandas_lib_exists:\n",
    "    print(\"Adding pandas dependency to conda.yaml\")\n",
    "    conda_libs[\"dependencies\"][-1][\"pip\"].append(f\"pandas=={pd.__version__}\")\n",
    "\n",
    "    with open(f\"{tmp_dir}/conda.yaml\", \"w\") as f:\n",
    "        f.write(yaml.dump(conda_libs))\n",
    "    client.log_artifact(\n",
    "        run_id=run_id, local_path=conda_file_path, artifact_path=\"model\"\n",
    "    )\n",
    "\n",
    "# Fix requirements.txt\n",
    "venv_file_path = mlflow.artifacts.download_artifacts(\n",
    "    artifact_uri=f\"runs:/{run_id}/model/requirements.txt\", dst_path=tmp_dir\n",
    ")\n",
    "with open(venv_file_path) as f:\n",
    "    venv_libs = f.readlines()\n",
    "venv_libs = [lib.strip() for lib in venv_libs]\n",
    "pandas_lib_exists = any([lib.startswith(\"pandas==\") for lib in venv_libs])\n",
    "if not pandas_lib_exists:\n",
    "    print(\"Adding pandas dependency to requirements.txt\")\n",
    "    venv_libs.append(f\"pandas=={pd.__version__}\")\n",
    "\n",
    "    with open(f\"{tmp_dir}/requirements.txt\", \"w\") as f:\n",
    "        f.write(\"\\n\".join(venv_libs))\n",
    "    client.log_artifact(run_id=run_id, local_path=venv_file_path, artifact_path=\"model\")\n",
    "\n",
    "shutil.rmtree(tmp_dir)"
   ]
  },
  {
   "cell_type": "markdown",
   "metadata": {
    "application/vnd.databricks.v1+cell": {
     "cellMetadata": {},
     "inputWidgets": {},
     "nuid": "19626496-fe8f-4cee-973d-a863205e6ff7",
     "showTitle": false,
     "title": ""
    }
   },
   "source": [
    "## Feature importance\n",
    "\n",
    "SHAP is a game-theoretic approach to explain machine learning models, providing a summary plot\n",
    "of the relationship between features and model output. Features are ranked in descending order of\n",
    "importance, and impact/color describe the correlation between the feature and the target variable.\n",
    "- Generating SHAP feature importance is a very memory intensive operation, so to ensure that AutoML can run trials without\n",
    "  running out of memory, we disable SHAP by default.<br />\n",
    "  You can set the flag defined below to `shap_enabled = True` and re-run this notebook to see the SHAP plots.\n",
    "- To reduce the computational overhead of each trial, a single example is sampled from the validation set to explain.<br />\n",
    "  For more thorough results, increase the sample size of explanations, or provide your own examples to explain.\n",
    "- SHAP cannot explain models using data with nulls; if your dataset has any, both the background data and\n",
    "  examples to explain will be imputed using the mode (most frequent values). This affects the computed\n",
    "  SHAP values, as the imputed samples may not match the actual data distribution.\n",
    "\n",
    "For more information on how to read Shapley values, see the [SHAP documentation](https://shap.readthedocs.io/en/latest/example_notebooks/overviews/An%20introduction%20to%20explainable%20AI%20with%20Shapley%20values.html).\n",
    "\n",
    "> **NOTE:** SHAP run may take a long time with the datetime columns in the dataset."
   ]
  },
  {
   "cell_type": "code",
   "execution_count": 0,
   "metadata": {
    "application/vnd.databricks.v1+cell": {
     "cellMetadata": {
      "byteLimit": 2048000,
      "rowLimit": 10000
     },
     "inputWidgets": {},
     "nuid": "62fc30b7-57dd-4953-8e51-a03aada5cdcf",
     "showTitle": false,
     "title": ""
    },
    "execution": {
     "iopub.execute_input": "2024-04-20T03:02:18.738261Z",
     "iopub.status.busy": "2024-04-20T03:02:18.737861Z",
     "iopub.status.idle": "2024-04-20T03:02:18.743105Z",
     "shell.execute_reply": "2024-04-20T03:02:18.742019Z"
    }
   },
   "outputs": [],
   "source": [
    "# Set this flag to True and re-run the notebook to see the SHAP plots\n",
    "shap_enabled = True"
   ]
  },
  {
   "cell_type": "code",
   "execution_count": 0,
   "metadata": {
    "application/vnd.databricks.v1+cell": {
     "cellMetadata": {
      "byteLimit": 2048000,
      "rowLimit": 10000
     },
     "inputWidgets": {},
     "nuid": "f817d8c1-fe2b-4c76-bdb3-3cb2683cef88",
     "showTitle": false,
     "title": ""
    },
    "execution": {
     "iopub.execute_input": "2024-04-20T03:02:18.748328Z",
     "iopub.status.busy": "2024-04-20T03:02:18.747560Z",
     "iopub.status.idle": "2024-04-20T03:02:18.756744Z",
     "shell.execute_reply": "2024-04-20T03:02:18.755662Z"
    }
   },
   "outputs": [],
   "source": [
    "if shap_enabled:\n",
    "    mlflow.autolog(disable=True)\n",
    "    mlflow.sklearn.autolog(disable=True)\n",
    "    from shap import KernelExplainer, summary_plot\n",
    "\n",
    "    # SHAP cannot explain models using data with nulls.\n",
    "    # To enable SHAP to succeed, both the background data and examples to explain are imputed with the mode (most frequent values).\n",
    "    mode = X_train_processed.mode().iloc[0]\n",
    "\n",
    "    # Sample background data for SHAP Explainer. Increase the sample size to reduce variance.\n",
    "    train_sample = X_train_processed.sample(\n",
    "        n=min(100, X_train_processed.shape[0]), random_state=729986891\n",
    "    ).fillna(mode)\n",
    "\n",
    "    # Sample some rows from the validation set to explain. Increase the sample size for more thorough results.\n",
    "    example = X_val_processed.sample(n=min(100, X_val_processed.shape[0]), random_state=729986891).fillna(\n",
    "        mode\n",
    "    )\n",
    "\n",
    "    # Use Kernel SHAP to explain feature importance on the sampled rows from the validation set.\n",
    "    predict = lambda x: model.predict(pd.DataFrame(x, columns=X_train_processed.columns))\n",
    "    explainer = KernelExplainer(predict, train_sample, link=\"identity\")\n",
    "    shap_values = explainer.shap_values(example, l1_reg=False, nsamples=500)\n",
    "    summary_plot(shap_values, example)"
   ]
  },
  {
   "cell_type": "markdown",
   "metadata": {
    "application/vnd.databricks.v1+cell": {
     "cellMetadata": {},
     "inputWidgets": {},
     "nuid": "c725e021-330c-48ab-aa6f-9fd036cd8662",
     "showTitle": false,
     "title": ""
    }
   },
   "source": [
    "## Inference\n",
    "[The MLflow Model Registry](https://docs.databricks.com/applications/mlflow/model-registry.html) is a collaborative hub where teams can share ML models, work together from experimentation to online testing and production, integrate with approval and governance workflows, and monitor ML deployments and their performance. The snippets below show how to add the model trained in this notebook to the model registry and to retrieve it later for inference.\n",
    "\n",
    "> **NOTE:** The `model_uri` for the model already trained in this notebook can be found in the cell below\n",
    "\n",
    "### Register to Model Registry\n",
    "```\n",
    "model_name = \"Example\"\n",
    "\n",
    "model_uri = f\"runs:/{ mlflow_run.info.run_id }/model\"\n",
    "registered_model_version = mlflow.register_model(model_uri, model_name)\n",
    "```\n",
    "\n",
    "### Load from Model Registry\n",
    "```\n",
    "model_name = \"Example\"\n",
    "model_version = registered_model_version.version\n",
    "\n",
    "model_uri=f\"models:/{model_name}/{model_version}\"\n",
    "model = mlflow.pyfunc.load_model(model_uri=model_uri)\n",
    "model.predict(input_X)\n",
    "```\n",
    "\n",
    "### Load model without registering\n",
    "```\n",
    "model_uri = f\"runs:/{ mlflow_run.info.run_id }/model\"\n",
    "\n",
    "model = mlflow.pyfunc.load_model(model_uri=model_uri)\n",
    "model.predict(input_X)\n",
    "```"
   ]
  },
  {
   "cell_type": "code",
   "execution_count": 0,
   "metadata": {
    "application/vnd.databricks.v1+cell": {
     "cellMetadata": {
      "byteLimit": 2048000,
      "rowLimit": 10000
     },
     "inputWidgets": {},
     "nuid": "a7b8cf47-17ff-49b0-861e-0f19c9358d38",
     "showTitle": false,
     "title": ""
    },
    "execution": {
     "iopub.execute_input": "2024-04-20T03:02:18.762004Z",
     "iopub.status.busy": "2024-04-20T03:02:18.761296Z",
     "iopub.status.idle": "2024-04-20T03:02:18.766721Z",
     "shell.execute_reply": "2024-04-20T03:02:18.765730Z"
    }
   },
   "outputs": [],
   "source": [
    "# model_uri for the generated model\n",
    "print(f\"runs:/{ mlflow_run.info.run_id }/model\")"
   ]
  },
  {
   "cell_type": "code",
   "execution_count": 0,
   "metadata": {
    "application/vnd.databricks.v1+cell": {
     "cellMetadata": {},
     "inputWidgets": {},
     "nuid": "17e6350d-6efa-4aa0-b579-c2d9f1246c09",
     "showTitle": false,
     "title": ""
    }
   },
   "outputs": [],
   "source": []
  }
 ],
 "metadata": {
  "application/vnd.databricks.v1+notebook": {
   "dashboards": [],
   "environmentMetadata": null,
   "language": "python",
   "notebookMetadata": {
    "pythonIndentUnit": 2
   },
   "notebookName": "Predict_SOG_v2-Manual-with-gameDate",
   "widgets": {}
  },
  "language_info": {
   "codemirror_mode": {
    "name": "ipython",
    "version": 3
   },
   "file_extension": ".py",
   "mimetype": "text/x-python",
   "name": "python",
   "nbconvert_exporter": "python",
   "pygments_lexer": "ipython3",
   "version": "3.10.12"
  },
  "name": "LightGBMRegressor-04b27edade073e187e41a06c1cfba07c",
  "widgets": {
   "application/vnd.jupyter.widget-state+json": {
    "state": {
     "04bc2f04b8354350a95b4ad053867f7d": {
      "model_module": "@jupyter-widgets/controls",
      "model_module_version": "1.5.0",
      "model_name": "HTMLModel",
      "state": {
       "_dom_classes": [],
       "_model_module": "@jupyter-widgets/controls",
       "_model_module_version": "1.5.0",
       "_model_name": "HTMLModel",
       "_view_count": null,
       "_view_module": "@jupyter-widgets/controls",
       "_view_module_version": "1.5.0",
       "_view_name": "HTMLView",
       "description": "",
       "description_tooltip": null,
       "layout": "IPY_MODEL_f62465a6e134437abb3a37a93b286934",
       "placeholder": "​",
       "style": "IPY_MODEL_93d5117972914c5092091d50f30505a9",
       "value": " 1/1 [00:00&lt;00:00,  2.54it/s]"
      }
     },
     "1544216cc33740a986d07924675742a6": {
      "model_module": "@jupyter-widgets/controls",
      "model_module_version": "1.5.0",
      "model_name": "ProgressStyleModel",
      "state": {
       "_model_module": "@jupyter-widgets/controls",
       "_model_module_version": "1.5.0",
       "_model_name": "ProgressStyleModel",
       "_view_count": null,
       "_view_module": "@jupyter-widgets/base",
       "_view_module_version": "1.2.0",
       "_view_name": "StyleView",
       "bar_color": null,
       "description_width": ""
      }
     },
     "1d95746c3be245c1b52af66528b677d1": {
      "model_module": "@jupyter-widgets/controls",
      "model_module_version": "1.5.0",
      "model_name": "FloatProgressModel",
      "state": {
       "_dom_classes": [],
       "_model_module": "@jupyter-widgets/controls",
       "_model_module_version": "1.5.0",
       "_model_name": "FloatProgressModel",
       "_view_count": null,
       "_view_module": "@jupyter-widgets/controls",
       "_view_module_version": "1.5.0",
       "_view_name": "ProgressView",
       "bar_style": "success",
       "description": "",
       "description_tooltip": null,
       "layout": "IPY_MODEL_7f2a26adcc6644939739292e16c15f7a",
       "max": 1.0,
       "min": 0.0,
       "orientation": "horizontal",
       "style": "IPY_MODEL_262af16705634367be4d8d720a4435a7",
       "value": 1.0
      }
     },
     "262af16705634367be4d8d720a4435a7": {
      "model_module": "@jupyter-widgets/controls",
      "model_module_version": "1.5.0",
      "model_name": "ProgressStyleModel",
      "state": {
       "_model_module": "@jupyter-widgets/controls",
       "_model_module_version": "1.5.0",
       "_model_name": "ProgressStyleModel",
       "_view_count": null,
       "_view_module": "@jupyter-widgets/base",
       "_view_module_version": "1.2.0",
       "_view_name": "StyleView",
       "bar_color": null,
       "description_width": ""
      }
     },
     "2bb23e5dd7f845228741b6cbecbaa6da": {
      "model_module": "@jupyter-widgets/base",
      "model_module_version": "1.2.0",
      "model_name": "LayoutModel",
      "state": {
       "_model_module": "@jupyter-widgets/base",
       "_model_module_version": "1.2.0",
       "_model_name": "LayoutModel",
       "_view_count": null,
       "_view_module": "@jupyter-widgets/base",
       "_view_module_version": "1.2.0",
       "_view_name": "LayoutView",
       "align_content": null,
       "align_items": null,
       "align_self": null,
       "border": null,
       "bottom": null,
       "display": null,
       "flex": null,
       "flex_flow": null,
       "grid_area": null,
       "grid_auto_columns": null,
       "grid_auto_flow": null,
       "grid_auto_rows": null,
       "grid_column": null,
       "grid_gap": null,
       "grid_row": null,
       "grid_template_areas": null,
       "grid_template_columns": null,
       "grid_template_rows": null,
       "height": null,
       "justify_content": null,
       "justify_items": null,
       "left": null,
       "margin": null,
       "max_height": null,
       "max_width": null,
       "min_height": null,
       "min_width": null,
       "object_fit": null,
       "object_position": null,
       "order": null,
       "overflow": null,
       "overflow_x": null,
       "overflow_y": null,
       "padding": null,
       "right": null,
       "top": null,
       "visibility": null,
       "width": null
      }
     },
     "3defd4bf81834a8a80fccdc7caa6216f": {
      "model_module": "@jupyter-widgets/controls",
      "model_module_version": "1.5.0",
      "model_name": "HTMLModel",
      "state": {
       "_dom_classes": [],
       "_model_module": "@jupyter-widgets/controls",
       "_model_module_version": "1.5.0",
       "_model_name": "HTMLModel",
       "_view_count": null,
       "_view_module": "@jupyter-widgets/controls",
       "_view_module_version": "1.5.0",
       "_view_name": "HTMLView",
       "description": "",
       "description_tooltip": null,
       "layout": "IPY_MODEL_cfba6277ce6740e1b8128eecb3a63771",
       "placeholder": "​",
       "style": "IPY_MODEL_daf9c0afd88645579c32675f44c15d2f",
       "value": " 1/1 [00:00&lt;00:00,  1.61it/s]"
      }
     },
     "4341f4314c304d758f4ed8ea92014572": {
      "model_module": "@jupyter-widgets/base",
      "model_module_version": "1.2.0",
      "model_name": "LayoutModel",
      "state": {
       "_model_module": "@jupyter-widgets/base",
       "_model_module_version": "1.2.0",
       "_model_name": "LayoutModel",
       "_view_count": null,
       "_view_module": "@jupyter-widgets/base",
       "_view_module_version": "1.2.0",
       "_view_name": "LayoutView",
       "align_content": null,
       "align_items": null,
       "align_self": null,
       "border": null,
       "bottom": null,
       "display": null,
       "flex": null,
       "flex_flow": null,
       "grid_area": null,
       "grid_auto_columns": null,
       "grid_auto_flow": null,
       "grid_auto_rows": null,
       "grid_column": null,
       "grid_gap": null,
       "grid_row": null,
       "grid_template_areas": null,
       "grid_template_columns": null,
       "grid_template_rows": null,
       "height": null,
       "justify_content": null,
       "justify_items": null,
       "left": null,
       "margin": null,
       "max_height": null,
       "max_width": null,
       "min_height": null,
       "min_width": null,
       "object_fit": null,
       "object_position": null,
       "order": null,
       "overflow": null,
       "overflow_x": null,
       "overflow_y": null,
       "padding": null,
       "right": null,
       "top": null,
       "visibility": null,
       "width": null
      }
     },
     "48a20b6a2c0b4c07b9eb984f4a455faa": {
      "model_module": "@jupyter-widgets/controls",
      "model_module_version": "1.5.0",
      "model_name": "ProgressStyleModel",
      "state": {
       "_model_module": "@jupyter-widgets/controls",
       "_model_module_version": "1.5.0",
       "_model_name": "ProgressStyleModel",
       "_view_count": null,
       "_view_module": "@jupyter-widgets/base",
       "_view_module_version": "1.2.0",
       "_view_name": "StyleView",
       "bar_color": null,
       "description_width": ""
      }
     },
     "4a0da130159b431eae5e7bd67986fd53": {
      "model_module": "@jupyter-widgets/base",
      "model_module_version": "1.2.0",
      "model_name": "LayoutModel",
      "state": {
       "_model_module": "@jupyter-widgets/base",
       "_model_module_version": "1.2.0",
       "_model_name": "LayoutModel",
       "_view_count": null,
       "_view_module": "@jupyter-widgets/base",
       "_view_module_version": "1.2.0",
       "_view_name": "LayoutView",
       "align_content": null,
       "align_items": null,
       "align_self": null,
       "border": null,
       "bottom": null,
       "display": null,
       "flex": null,
       "flex_flow": null,
       "grid_area": null,
       "grid_auto_columns": null,
       "grid_auto_flow": null,
       "grid_auto_rows": null,
       "grid_column": null,
       "grid_gap": null,
       "grid_row": null,
       "grid_template_areas": null,
       "grid_template_columns": null,
       "grid_template_rows": null,
       "height": null,
       "justify_content": null,
       "justify_items": null,
       "left": null,
       "margin": null,
       "max_height": null,
       "max_width": null,
       "min_height": null,
       "min_width": null,
       "object_fit": null,
       "object_position": null,
       "order": null,
       "overflow": null,
       "overflow_x": null,
       "overflow_y": null,
       "padding": null,
       "right": null,
       "top": null,
       "visibility": null,
       "width": null
      }
     },
     "4b8125d117ec4f5f9699968909bd2554": {
      "model_module": "@jupyter-widgets/base",
      "model_module_version": "1.2.0",
      "model_name": "LayoutModel",
      "state": {
       "_model_module": "@jupyter-widgets/base",
       "_model_module_version": "1.2.0",
       "_model_name": "LayoutModel",
       "_view_count": null,
       "_view_module": "@jupyter-widgets/base",
       "_view_module_version": "1.2.0",
       "_view_name": "LayoutView",
       "align_content": null,
       "align_items": null,
       "align_self": null,
       "border": null,
       "bottom": null,
       "display": null,
       "flex": null,
       "flex_flow": null,
       "grid_area": null,
       "grid_auto_columns": null,
       "grid_auto_flow": null,
       "grid_auto_rows": null,
       "grid_column": null,
       "grid_gap": null,
       "grid_row": null,
       "grid_template_areas": null,
       "grid_template_columns": null,
       "grid_template_rows": null,
       "height": null,
       "justify_content": null,
       "justify_items": null,
       "left": null,
       "margin": null,
       "max_height": null,
       "max_width": null,
       "min_height": null,
       "min_width": null,
       "object_fit": null,
       "object_position": null,
       "order": null,
       "overflow": null,
       "overflow_x": null,
       "overflow_y": null,
       "padding": null,
       "right": null,
       "top": null,
       "visibility": null,
       "width": null
      }
     },
     "5d8aceea596a46d58f22e7c2485b8a51": {
      "model_module": "@jupyter-widgets/controls",
      "model_module_version": "1.5.0",
      "model_name": "DescriptionStyleModel",
      "state": {
       "_model_module": "@jupyter-widgets/controls",
       "_model_module_version": "1.5.0",
       "_model_name": "DescriptionStyleModel",
       "_view_count": null,
       "_view_module": "@jupyter-widgets/base",
       "_view_module_version": "1.2.0",
       "_view_name": "StyleView",
       "description_width": ""
      }
     },
     "5e072697ff104d42be870b6bb7fc53c1": {
      "model_module": "@jupyter-widgets/controls",
      "model_module_version": "1.5.0",
      "model_name": "DescriptionStyleModel",
      "state": {
       "_model_module": "@jupyter-widgets/controls",
       "_model_module_version": "1.5.0",
       "_model_name": "DescriptionStyleModel",
       "_view_count": null,
       "_view_module": "@jupyter-widgets/base",
       "_view_module_version": "1.2.0",
       "_view_name": "StyleView",
       "description_width": ""
      }
     },
     "5f68c13ef7e541ec92095f121ffa9e02": {
      "model_module": "@jupyter-widgets/base",
      "model_module_version": "1.2.0",
      "model_name": "LayoutModel",
      "state": {
       "_model_module": "@jupyter-widgets/base",
       "_model_module_version": "1.2.0",
       "_model_name": "LayoutModel",
       "_view_count": null,
       "_view_module": "@jupyter-widgets/base",
       "_view_module_version": "1.2.0",
       "_view_name": "LayoutView",
       "align_content": null,
       "align_items": null,
       "align_self": null,
       "border": null,
       "bottom": null,
       "display": null,
       "flex": null,
       "flex_flow": null,
       "grid_area": null,
       "grid_auto_columns": null,
       "grid_auto_flow": null,
       "grid_auto_rows": null,
       "grid_column": null,
       "grid_gap": null,
       "grid_row": null,
       "grid_template_areas": null,
       "grid_template_columns": null,
       "grid_template_rows": null,
       "height": null,
       "justify_content": null,
       "justify_items": null,
       "left": null,
       "margin": null,
       "max_height": null,
       "max_width": null,
       "min_height": null,
       "min_width": null,
       "object_fit": null,
       "object_position": null,
       "order": null,
       "overflow": null,
       "overflow_x": null,
       "overflow_y": null,
       "padding": null,
       "right": null,
       "top": null,
       "visibility": null,
       "width": null
      }
     },
     "611d0ee2238f48fe92e53f0039d6955f": {
      "model_module": "@jupyter-widgets/controls",
      "model_module_version": "1.5.0",
      "model_name": "DescriptionStyleModel",
      "state": {
       "_model_module": "@jupyter-widgets/controls",
       "_model_module_version": "1.5.0",
       "_model_name": "DescriptionStyleModel",
       "_view_count": null,
       "_view_module": "@jupyter-widgets/base",
       "_view_module_version": "1.2.0",
       "_view_name": "StyleView",
       "description_width": ""
      }
     },
     "649533cd9b9540c9bdeef2981c8bd890": {
      "model_module": "@jupyter-widgets/controls",
      "model_module_version": "1.5.0",
      "model_name": "FloatProgressModel",
      "state": {
       "_dom_classes": [],
       "_model_module": "@jupyter-widgets/controls",
       "_model_module_version": "1.5.0",
       "_model_name": "FloatProgressModel",
       "_view_count": null,
       "_view_module": "@jupyter-widgets/controls",
       "_view_module_version": "1.5.0",
       "_view_name": "ProgressView",
       "bar_style": "success",
       "description": "",
       "description_tooltip": null,
       "layout": "IPY_MODEL_bff64efad98b4ae397de9aa48a9b1134",
       "max": 6.0,
       "min": 0.0,
       "orientation": "horizontal",
       "style": "IPY_MODEL_1544216cc33740a986d07924675742a6",
       "value": 6.0
      }
     },
     "6850e588248c43aaa46936aca094f29e": {
      "model_module": "@jupyter-widgets/controls",
      "model_module_version": "1.5.0",
      "model_name": "ProgressStyleModel",
      "state": {
       "_model_module": "@jupyter-widgets/controls",
       "_model_module_version": "1.5.0",
       "_model_name": "ProgressStyleModel",
       "_view_count": null,
       "_view_module": "@jupyter-widgets/base",
       "_view_module_version": "1.2.0",
       "_view_name": "StyleView",
       "bar_color": null,
       "description_width": ""
      }
     },
     "6de110a12c244ecab8d32f312377f00d": {
      "model_module": "@jupyter-widgets/controls",
      "model_module_version": "1.5.0",
      "model_name": "DescriptionStyleModel",
      "state": {
       "_model_module": "@jupyter-widgets/controls",
       "_model_module_version": "1.5.0",
       "_model_name": "DescriptionStyleModel",
       "_view_count": null,
       "_view_module": "@jupyter-widgets/base",
       "_view_module_version": "1.2.0",
       "_view_name": "StyleView",
       "description_width": ""
      }
     },
     "7ae80cc3e4b844b9baa25d0141aae786": {
      "model_module": "@jupyter-widgets/controls",
      "model_module_version": "1.5.0",
      "model_name": "HTMLModel",
      "state": {
       "_dom_classes": [],
       "_model_module": "@jupyter-widgets/controls",
       "_model_module_version": "1.5.0",
       "_model_name": "HTMLModel",
       "_view_count": null,
       "_view_module": "@jupyter-widgets/controls",
       "_view_module_version": "1.5.0",
       "_view_name": "HTMLView",
       "description": "",
       "description_tooltip": null,
       "layout": "IPY_MODEL_8efcfc25dad649ddb159e6f81ebecf17",
       "placeholder": "​",
       "style": "IPY_MODEL_5e072697ff104d42be870b6bb7fc53c1",
       "value": "Downloading artifacts: 100%"
      }
     },
     "7f2a26adcc6644939739292e16c15f7a": {
      "model_module": "@jupyter-widgets/base",
      "model_module_version": "1.2.0",
      "model_name": "LayoutModel",
      "state": {
       "_model_module": "@jupyter-widgets/base",
       "_model_module_version": "1.2.0",
       "_model_name": "LayoutModel",
       "_view_count": null,
       "_view_module": "@jupyter-widgets/base",
       "_view_module_version": "1.2.0",
       "_view_name": "LayoutView",
       "align_content": null,
       "align_items": null,
       "align_self": null,
       "border": null,
       "bottom": null,
       "display": null,
       "flex": null,
       "flex_flow": null,
       "grid_area": null,
       "grid_auto_columns": null,
       "grid_auto_flow": null,
       "grid_auto_rows": null,
       "grid_column": null,
       "grid_gap": null,
       "grid_row": null,
       "grid_template_areas": null,
       "grid_template_columns": null,
       "grid_template_rows": null,
       "height": null,
       "justify_content": null,
       "justify_items": null,
       "left": null,
       "margin": null,
       "max_height": null,
       "max_width": null,
       "min_height": null,
       "min_width": null,
       "object_fit": null,
       "object_position": null,
       "order": null,
       "overflow": null,
       "overflow_x": null,
       "overflow_y": null,
       "padding": null,
       "right": null,
       "top": null,
       "visibility": null,
       "width": null
      }
     },
     "82cce7041ed340939eeb128a0cceeef0": {
      "model_module": "@jupyter-widgets/controls",
      "model_module_version": "1.5.0",
      "model_name": "HBoxModel",
      "state": {
       "_dom_classes": [],
       "_model_module": "@jupyter-widgets/controls",
       "_model_module_version": "1.5.0",
       "_model_name": "HBoxModel",
       "_view_count": null,
       "_view_module": "@jupyter-widgets/controls",
       "_view_module_version": "1.5.0",
       "_view_name": "HBoxView",
       "box_style": "",
       "children": [
        "IPY_MODEL_7ae80cc3e4b844b9baa25d0141aae786",
        "IPY_MODEL_1d95746c3be245c1b52af66528b677d1",
        "IPY_MODEL_f04791a682e74fb6bf8694a13b65aa6c"
       ],
       "layout": "IPY_MODEL_2bb23e5dd7f845228741b6cbecbaa6da"
      }
     },
     "89626334df97436aad72fe0d3224d1da": {
      "model_module": "@jupyter-widgets/base",
      "model_module_version": "1.2.0",
      "model_name": "LayoutModel",
      "state": {
       "_model_module": "@jupyter-widgets/base",
       "_model_module_version": "1.2.0",
       "_model_name": "LayoutModel",
       "_view_count": null,
       "_view_module": "@jupyter-widgets/base",
       "_view_module_version": "1.2.0",
       "_view_name": "LayoutView",
       "align_content": null,
       "align_items": null,
       "align_self": null,
       "border": null,
       "bottom": null,
       "display": null,
       "flex": null,
       "flex_flow": null,
       "grid_area": null,
       "grid_auto_columns": null,
       "grid_auto_flow": null,
       "grid_auto_rows": null,
       "grid_column": null,
       "grid_gap": null,
       "grid_row": null,
       "grid_template_areas": null,
       "grid_template_columns": null,
       "grid_template_rows": null,
       "height": null,
       "justify_content": null,
       "justify_items": null,
       "left": null,
       "margin": null,
       "max_height": null,
       "max_width": null,
       "min_height": null,
       "min_width": null,
       "object_fit": null,
       "object_position": null,
       "order": null,
       "overflow": null,
       "overflow_x": null,
       "overflow_y": null,
       "padding": null,
       "right": null,
       "top": null,
       "visibility": null,
       "width": null
      }
     },
     "8a02c779fc454c6faa361508226c6ab6": {
      "model_module": "@jupyter-widgets/controls",
      "model_module_version": "1.5.0",
      "model_name": "FloatProgressModel",
      "state": {
       "_dom_classes": [],
       "_model_module": "@jupyter-widgets/controls",
       "_model_module_version": "1.5.0",
       "_model_name": "FloatProgressModel",
       "_view_count": null,
       "_view_module": "@jupyter-widgets/controls",
       "_view_module_version": "1.5.0",
       "_view_name": "ProgressView",
       "bar_style": "success",
       "description": "",
       "description_tooltip": null,
       "layout": "IPY_MODEL_5f68c13ef7e541ec92095f121ffa9e02",
       "max": 1.0,
       "min": 0.0,
       "orientation": "horizontal",
       "style": "IPY_MODEL_6850e588248c43aaa46936aca094f29e",
       "value": 1.0
      }
     },
     "8a03573f5c714e92a3c4a72e039588aa": {
      "model_module": "@jupyter-widgets/base",
      "model_module_version": "1.2.0",
      "model_name": "LayoutModel",
      "state": {
       "_model_module": "@jupyter-widgets/base",
       "_model_module_version": "1.2.0",
       "_model_name": "LayoutModel",
       "_view_count": null,
       "_view_module": "@jupyter-widgets/base",
       "_view_module_version": "1.2.0",
       "_view_name": "LayoutView",
       "align_content": null,
       "align_items": null,
       "align_self": null,
       "border": null,
       "bottom": null,
       "display": null,
       "flex": null,
       "flex_flow": null,
       "grid_area": null,
       "grid_auto_columns": null,
       "grid_auto_flow": null,
       "grid_auto_rows": null,
       "grid_column": null,
       "grid_gap": null,
       "grid_row": null,
       "grid_template_areas": null,
       "grid_template_columns": null,
       "grid_template_rows": null,
       "height": null,
       "justify_content": null,
       "justify_items": null,
       "left": null,
       "margin": null,
       "max_height": null,
       "max_width": null,
       "min_height": null,
       "min_width": null,
       "object_fit": null,
       "object_position": null,
       "order": null,
       "overflow": null,
       "overflow_x": null,
       "overflow_y": null,
       "padding": null,
       "right": null,
       "top": null,
       "visibility": null,
       "width": null
      }
     },
     "8efcfc25dad649ddb159e6f81ebecf17": {
      "model_module": "@jupyter-widgets/base",
      "model_module_version": "1.2.0",
      "model_name": "LayoutModel",
      "state": {
       "_model_module": "@jupyter-widgets/base",
       "_model_module_version": "1.2.0",
       "_model_name": "LayoutModel",
       "_view_count": null,
       "_view_module": "@jupyter-widgets/base",
       "_view_module_version": "1.2.0",
       "_view_name": "LayoutView",
       "align_content": null,
       "align_items": null,
       "align_self": null,
       "border": null,
       "bottom": null,
       "display": null,
       "flex": null,
       "flex_flow": null,
       "grid_area": null,
       "grid_auto_columns": null,
       "grid_auto_flow": null,
       "grid_auto_rows": null,
       "grid_column": null,
       "grid_gap": null,
       "grid_row": null,
       "grid_template_areas": null,
       "grid_template_columns": null,
       "grid_template_rows": null,
       "height": null,
       "justify_content": null,
       "justify_items": null,
       "left": null,
       "margin": null,
       "max_height": null,
       "max_width": null,
       "min_height": null,
       "min_width": null,
       "object_fit": null,
       "object_position": null,
       "order": null,
       "overflow": null,
       "overflow_x": null,
       "overflow_y": null,
       "padding": null,
       "right": null,
       "top": null,
       "visibility": null,
       "width": null
      }
     },
     "9385b653c2a14192a3b5051a6755e0f7": {
      "model_module": "@jupyter-widgets/controls",
      "model_module_version": "1.5.0",
      "model_name": "HTMLModel",
      "state": {
       "_dom_classes": [],
       "_model_module": "@jupyter-widgets/controls",
       "_model_module_version": "1.5.0",
       "_model_name": "HTMLModel",
       "_view_count": null,
       "_view_module": "@jupyter-widgets/controls",
       "_view_module_version": "1.5.0",
       "_view_name": "HTMLView",
       "description": "",
       "description_tooltip": null,
       "layout": "IPY_MODEL_4341f4314c304d758f4ed8ea92014572",
       "placeholder": "​",
       "style": "IPY_MODEL_6de110a12c244ecab8d32f312377f00d",
       "value": "Downloading artifacts: 100%"
      }
     },
     "93d5117972914c5092091d50f30505a9": {
      "model_module": "@jupyter-widgets/controls",
      "model_module_version": "1.5.0",
      "model_name": "DescriptionStyleModel",
      "state": {
       "_model_module": "@jupyter-widgets/controls",
       "_model_module_version": "1.5.0",
       "_model_name": "DescriptionStyleModel",
       "_view_count": null,
       "_view_module": "@jupyter-widgets/base",
       "_view_module_version": "1.2.0",
       "_view_name": "StyleView",
       "description_width": ""
      }
     },
     "94299ae1cf78495e8d97cf36548cf905": {
      "model_module": "@jupyter-widgets/controls",
      "model_module_version": "1.5.0",
      "model_name": "HBoxModel",
      "state": {
       "_dom_classes": [],
       "_model_module": "@jupyter-widgets/controls",
       "_model_module_version": "1.5.0",
       "_model_name": "HBoxModel",
       "_view_count": null,
       "_view_module": "@jupyter-widgets/controls",
       "_view_module_version": "1.5.0",
       "_view_name": "HBoxView",
       "box_style": "",
       "children": [
        "IPY_MODEL_d0321c171a634c499397aac9ac96fcc7",
        "IPY_MODEL_aaae0418a38543d9bf5f30c119af4bb4",
        "IPY_MODEL_3defd4bf81834a8a80fccdc7caa6216f"
       ],
       "layout": "IPY_MODEL_a897d082a3a542f782f944fede2faaba"
      }
     },
     "94cc38183fb142cc9fbf70c61a440559": {
      "model_module": "@jupyter-widgets/controls",
      "model_module_version": "1.5.0",
      "model_name": "HBoxModel",
      "state": {
       "_dom_classes": [],
       "_model_module": "@jupyter-widgets/controls",
       "_model_module_version": "1.5.0",
       "_model_name": "HBoxModel",
       "_view_count": null,
       "_view_module": "@jupyter-widgets/controls",
       "_view_module_version": "1.5.0",
       "_view_name": "HBoxView",
       "box_style": "",
       "children": [
        "IPY_MODEL_e68dae8294e348e8b509c15aa373d81b",
        "IPY_MODEL_649533cd9b9540c9bdeef2981c8bd890",
        "IPY_MODEL_a1de94707dc14269b35fa663c85d3955"
       ],
       "layout": "IPY_MODEL_d162a08fbb284a05a89cb76ce573a400"
      }
     },
     "a1de94707dc14269b35fa663c85d3955": {
      "model_module": "@jupyter-widgets/controls",
      "model_module_version": "1.5.0",
      "model_name": "HTMLModel",
      "state": {
       "_dom_classes": [],
       "_model_module": "@jupyter-widgets/controls",
       "_model_module_version": "1.5.0",
       "_model_name": "HTMLModel",
       "_view_count": null,
       "_view_module": "@jupyter-widgets/controls",
       "_view_module_version": "1.5.0",
       "_view_name": "HTMLView",
       "description": "",
       "description_tooltip": null,
       "layout": "IPY_MODEL_4a0da130159b431eae5e7bd67986fd53",
       "placeholder": "​",
       "style": "IPY_MODEL_611d0ee2238f48fe92e53f0039d6955f",
       "value": " 6/6 [00:00&lt;00:00,  6.41it/s]"
      }
     },
     "a897d082a3a542f782f944fede2faaba": {
      "model_module": "@jupyter-widgets/base",
      "model_module_version": "1.2.0",
      "model_name": "LayoutModel",
      "state": {
       "_model_module": "@jupyter-widgets/base",
       "_model_module_version": "1.2.0",
       "_model_name": "LayoutModel",
       "_view_count": null,
       "_view_module": "@jupyter-widgets/base",
       "_view_module_version": "1.2.0",
       "_view_name": "LayoutView",
       "align_content": null,
       "align_items": null,
       "align_self": null,
       "border": null,
       "bottom": null,
       "display": null,
       "flex": null,
       "flex_flow": null,
       "grid_area": null,
       "grid_auto_columns": null,
       "grid_auto_flow": null,
       "grid_auto_rows": null,
       "grid_column": null,
       "grid_gap": null,
       "grid_row": null,
       "grid_template_areas": null,
       "grid_template_columns": null,
       "grid_template_rows": null,
       "height": null,
       "justify_content": null,
       "justify_items": null,
       "left": null,
       "margin": null,
       "max_height": null,
       "max_width": null,
       "min_height": null,
       "min_width": null,
       "object_fit": null,
       "object_position": null,
       "order": null,
       "overflow": null,
       "overflow_x": null,
       "overflow_y": null,
       "padding": null,
       "right": null,
       "top": null,
       "visibility": null,
       "width": null
      }
     },
     "aaae0418a38543d9bf5f30c119af4bb4": {
      "model_module": "@jupyter-widgets/controls",
      "model_module_version": "1.5.0",
      "model_name": "FloatProgressModel",
      "state": {
       "_dom_classes": [],
       "_model_module": "@jupyter-widgets/controls",
       "_model_module_version": "1.5.0",
       "_model_name": "FloatProgressModel",
       "_view_count": null,
       "_view_module": "@jupyter-widgets/controls",
       "_view_module_version": "1.5.0",
       "_view_name": "ProgressView",
       "bar_style": "success",
       "description": "",
       "description_tooltip": null,
       "layout": "IPY_MODEL_e5019357cb4d42b299824b35b4f62768",
       "max": 1.0,
       "min": 0.0,
       "orientation": "horizontal",
       "style": "IPY_MODEL_48a20b6a2c0b4c07b9eb984f4a455faa",
       "value": 1.0
      }
     },
     "b76b800d836b4c698fdcf2f12da77d87": {
      "model_module": "@jupyter-widgets/controls",
      "model_module_version": "1.5.0",
      "model_name": "DescriptionStyleModel",
      "state": {
       "_model_module": "@jupyter-widgets/controls",
       "_model_module_version": "1.5.0",
       "_model_name": "DescriptionStyleModel",
       "_view_count": null,
       "_view_module": "@jupyter-widgets/base",
       "_view_module_version": "1.2.0",
       "_view_name": "StyleView",
       "description_width": ""
      }
     },
     "bff64efad98b4ae397de9aa48a9b1134": {
      "model_module": "@jupyter-widgets/base",
      "model_module_version": "1.2.0",
      "model_name": "LayoutModel",
      "state": {
       "_model_module": "@jupyter-widgets/base",
       "_model_module_version": "1.2.0",
       "_model_name": "LayoutModel",
       "_view_count": null,
       "_view_module": "@jupyter-widgets/base",
       "_view_module_version": "1.2.0",
       "_view_name": "LayoutView",
       "align_content": null,
       "align_items": null,
       "align_self": null,
       "border": null,
       "bottom": null,
       "display": null,
       "flex": null,
       "flex_flow": null,
       "grid_area": null,
       "grid_auto_columns": null,
       "grid_auto_flow": null,
       "grid_auto_rows": null,
       "grid_column": null,
       "grid_gap": null,
       "grid_row": null,
       "grid_template_areas": null,
       "grid_template_columns": null,
       "grid_template_rows": null,
       "height": null,
       "justify_content": null,
       "justify_items": null,
       "left": null,
       "margin": null,
       "max_height": null,
       "max_width": null,
       "min_height": null,
       "min_width": null,
       "object_fit": null,
       "object_position": null,
       "order": null,
       "overflow": null,
       "overflow_x": null,
       "overflow_y": null,
       "padding": null,
       "right": null,
       "top": null,
       "visibility": null,
       "width": null
      }
     },
     "c9c3d7ec5bdd44caa6a2df408a074e0f": {
      "model_module": "@jupyter-widgets/base",
      "model_module_version": "1.2.0",
      "model_name": "LayoutModel",
      "state": {
       "_model_module": "@jupyter-widgets/base",
       "_model_module_version": "1.2.0",
       "_model_name": "LayoutModel",
       "_view_count": null,
       "_view_module": "@jupyter-widgets/base",
       "_view_module_version": "1.2.0",
       "_view_name": "LayoutView",
       "align_content": null,
       "align_items": null,
       "align_self": null,
       "border": null,
       "bottom": null,
       "display": null,
       "flex": null,
       "flex_flow": null,
       "grid_area": null,
       "grid_auto_columns": null,
       "grid_auto_flow": null,
       "grid_auto_rows": null,
       "grid_column": null,
       "grid_gap": null,
       "grid_row": null,
       "grid_template_areas": null,
       "grid_template_columns": null,
       "grid_template_rows": null,
       "height": null,
       "justify_content": null,
       "justify_items": null,
       "left": null,
       "margin": null,
       "max_height": null,
       "max_width": null,
       "min_height": null,
       "min_width": null,
       "object_fit": null,
       "object_position": null,
       "order": null,
       "overflow": null,
       "overflow_x": null,
       "overflow_y": null,
       "padding": null,
       "right": null,
       "top": null,
       "visibility": null,
       "width": null
      }
     },
     "cfba6277ce6740e1b8128eecb3a63771": {
      "model_module": "@jupyter-widgets/base",
      "model_module_version": "1.2.0",
      "model_name": "LayoutModel",
      "state": {
       "_model_module": "@jupyter-widgets/base",
       "_model_module_version": "1.2.0",
       "_model_name": "LayoutModel",
       "_view_count": null,
       "_view_module": "@jupyter-widgets/base",
       "_view_module_version": "1.2.0",
       "_view_name": "LayoutView",
       "align_content": null,
       "align_items": null,
       "align_self": null,
       "border": null,
       "bottom": null,
       "display": null,
       "flex": null,
       "flex_flow": null,
       "grid_area": null,
       "grid_auto_columns": null,
       "grid_auto_flow": null,
       "grid_auto_rows": null,
       "grid_column": null,
       "grid_gap": null,
       "grid_row": null,
       "grid_template_areas": null,
       "grid_template_columns": null,
       "grid_template_rows": null,
       "height": null,
       "justify_content": null,
       "justify_items": null,
       "left": null,
       "margin": null,
       "max_height": null,
       "max_width": null,
       "min_height": null,
       "min_width": null,
       "object_fit": null,
       "object_position": null,
       "order": null,
       "overflow": null,
       "overflow_x": null,
       "overflow_y": null,
       "padding": null,
       "right": null,
       "top": null,
       "visibility": null,
       "width": null
      }
     },
     "d0321c171a634c499397aac9ac96fcc7": {
      "model_module": "@jupyter-widgets/controls",
      "model_module_version": "1.5.0",
      "model_name": "HTMLModel",
      "state": {
       "_dom_classes": [],
       "_model_module": "@jupyter-widgets/controls",
       "_model_module_version": "1.5.0",
       "_model_name": "HTMLModel",
       "_view_count": null,
       "_view_module": "@jupyter-widgets/controls",
       "_view_module_version": "1.5.0",
       "_view_name": "HTMLView",
       "description": "",
       "description_tooltip": null,
       "layout": "IPY_MODEL_8a03573f5c714e92a3c4a72e039588aa",
       "placeholder": "​",
       "style": "IPY_MODEL_e85ae10086b142c288e4ef42d8a0dfba",
       "value": "Downloading artifacts: 100%"
      }
     },
     "d162a08fbb284a05a89cb76ce573a400": {
      "model_module": "@jupyter-widgets/base",
      "model_module_version": "1.2.0",
      "model_name": "LayoutModel",
      "state": {
       "_model_module": "@jupyter-widgets/base",
       "_model_module_version": "1.2.0",
       "_model_name": "LayoutModel",
       "_view_count": null,
       "_view_module": "@jupyter-widgets/base",
       "_view_module_version": "1.2.0",
       "_view_name": "LayoutView",
       "align_content": null,
       "align_items": null,
       "align_self": null,
       "border": null,
       "bottom": null,
       "display": null,
       "flex": null,
       "flex_flow": null,
       "grid_area": null,
       "grid_auto_columns": null,
       "grid_auto_flow": null,
       "grid_auto_rows": null,
       "grid_column": null,
       "grid_gap": null,
       "grid_row": null,
       "grid_template_areas": null,
       "grid_template_columns": null,
       "grid_template_rows": null,
       "height": null,
       "justify_content": null,
       "justify_items": null,
       "left": null,
       "margin": null,
       "max_height": null,
       "max_width": null,
       "min_height": null,
       "min_width": null,
       "object_fit": null,
       "object_position": null,
       "order": null,
       "overflow": null,
       "overflow_x": null,
       "overflow_y": null,
       "padding": null,
       "right": null,
       "top": null,
       "visibility": null,
       "width": null
      }
     },
     "daf9c0afd88645579c32675f44c15d2f": {
      "model_module": "@jupyter-widgets/controls",
      "model_module_version": "1.5.0",
      "model_name": "DescriptionStyleModel",
      "state": {
       "_model_module": "@jupyter-widgets/controls",
       "_model_module_version": "1.5.0",
       "_model_name": "DescriptionStyleModel",
       "_view_count": null,
       "_view_module": "@jupyter-widgets/base",
       "_view_module_version": "1.2.0",
       "_view_name": "StyleView",
       "description_width": ""
      }
     },
     "e5019357cb4d42b299824b35b4f62768": {
      "model_module": "@jupyter-widgets/base",
      "model_module_version": "1.2.0",
      "model_name": "LayoutModel",
      "state": {
       "_model_module": "@jupyter-widgets/base",
       "_model_module_version": "1.2.0",
       "_model_name": "LayoutModel",
       "_view_count": null,
       "_view_module": "@jupyter-widgets/base",
       "_view_module_version": "1.2.0",
       "_view_name": "LayoutView",
       "align_content": null,
       "align_items": null,
       "align_self": null,
       "border": null,
       "bottom": null,
       "display": null,
       "flex": null,
       "flex_flow": null,
       "grid_area": null,
       "grid_auto_columns": null,
       "grid_auto_flow": null,
       "grid_auto_rows": null,
       "grid_column": null,
       "grid_gap": null,
       "grid_row": null,
       "grid_template_areas": null,
       "grid_template_columns": null,
       "grid_template_rows": null,
       "height": null,
       "justify_content": null,
       "justify_items": null,
       "left": null,
       "margin": null,
       "max_height": null,
       "max_width": null,
       "min_height": null,
       "min_width": null,
       "object_fit": null,
       "object_position": null,
       "order": null,
       "overflow": null,
       "overflow_x": null,
       "overflow_y": null,
       "padding": null,
       "right": null,
       "top": null,
       "visibility": null,
       "width": null
      }
     },
     "e68dae8294e348e8b509c15aa373d81b": {
      "model_module": "@jupyter-widgets/controls",
      "model_module_version": "1.5.0",
      "model_name": "HTMLModel",
      "state": {
       "_dom_classes": [],
       "_model_module": "@jupyter-widgets/controls",
       "_model_module_version": "1.5.0",
       "_model_name": "HTMLModel",
       "_view_count": null,
       "_view_module": "@jupyter-widgets/controls",
       "_view_module_version": "1.5.0",
       "_view_name": "HTMLView",
       "description": "",
       "description_tooltip": null,
       "layout": "IPY_MODEL_c9c3d7ec5bdd44caa6a2df408a074e0f",
       "placeholder": "​",
       "style": "IPY_MODEL_5d8aceea596a46d58f22e7c2485b8a51",
       "value": "Uploading artifacts: 100%"
      }
     },
     "e8137a23193f4609af0f4ba6b2751ca3": {
      "model_module": "@jupyter-widgets/controls",
      "model_module_version": "1.5.0",
      "model_name": "HBoxModel",
      "state": {
       "_dom_classes": [],
       "_model_module": "@jupyter-widgets/controls",
       "_model_module_version": "1.5.0",
       "_model_name": "HBoxModel",
       "_view_count": null,
       "_view_module": "@jupyter-widgets/controls",
       "_view_module_version": "1.5.0",
       "_view_name": "HBoxView",
       "box_style": "",
       "children": [
        "IPY_MODEL_9385b653c2a14192a3b5051a6755e0f7",
        "IPY_MODEL_8a02c779fc454c6faa361508226c6ab6",
        "IPY_MODEL_04bc2f04b8354350a95b4ad053867f7d"
       ],
       "layout": "IPY_MODEL_89626334df97436aad72fe0d3224d1da"
      }
     },
     "e85ae10086b142c288e4ef42d8a0dfba": {
      "model_module": "@jupyter-widgets/controls",
      "model_module_version": "1.5.0",
      "model_name": "DescriptionStyleModel",
      "state": {
       "_model_module": "@jupyter-widgets/controls",
       "_model_module_version": "1.5.0",
       "_model_name": "DescriptionStyleModel",
       "_view_count": null,
       "_view_module": "@jupyter-widgets/base",
       "_view_module_version": "1.2.0",
       "_view_name": "StyleView",
       "description_width": ""
      }
     },
     "f04791a682e74fb6bf8694a13b65aa6c": {
      "model_module": "@jupyter-widgets/controls",
      "model_module_version": "1.5.0",
      "model_name": "HTMLModel",
      "state": {
       "_dom_classes": [],
       "_model_module": "@jupyter-widgets/controls",
       "_model_module_version": "1.5.0",
       "_model_name": "HTMLModel",
       "_view_count": null,
       "_view_module": "@jupyter-widgets/controls",
       "_view_module_version": "1.5.0",
       "_view_name": "HTMLView",
       "description": "",
       "description_tooltip": null,
       "layout": "IPY_MODEL_4b8125d117ec4f5f9699968909bd2554",
       "placeholder": "​",
       "style": "IPY_MODEL_b76b800d836b4c698fdcf2f12da77d87",
       "value": " 1/1 [00:00&lt;00:00,  2.31it/s]"
      }
     },
     "f62465a6e134437abb3a37a93b286934": {
      "model_module": "@jupyter-widgets/base",
      "model_module_version": "1.2.0",
      "model_name": "LayoutModel",
      "state": {
       "_model_module": "@jupyter-widgets/base",
       "_model_module_version": "1.2.0",
       "_model_name": "LayoutModel",
       "_view_count": null,
       "_view_module": "@jupyter-widgets/base",
       "_view_module_version": "1.2.0",
       "_view_name": "LayoutView",
       "align_content": null,
       "align_items": null,
       "align_self": null,
       "border": null,
       "bottom": null,
       "display": null,
       "flex": null,
       "flex_flow": null,
       "grid_area": null,
       "grid_auto_columns": null,
       "grid_auto_flow": null,
       "grid_auto_rows": null,
       "grid_column": null,
       "grid_gap": null,
       "grid_row": null,
       "grid_template_areas": null,
       "grid_template_columns": null,
       "grid_template_rows": null,
       "height": null,
       "justify_content": null,
       "justify_items": null,
       "left": null,
       "margin": null,
       "max_height": null,
       "max_width": null,
       "min_height": null,
       "min_width": null,
       "object_fit": null,
       "object_position": null,
       "order": null,
       "overflow": null,
       "overflow_x": null,
       "overflow_y": null,
       "padding": null,
       "right": null,
       "top": null,
       "visibility": null,
       "width": null
      }
     }
    },
    "version_major": 2,
    "version_minor": 0
   }
  }
 },
 "nbformat": 4,
 "nbformat_minor": 0
}
